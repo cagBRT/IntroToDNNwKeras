{
  "nbformat": 4,
  "nbformat_minor": 0,
  "metadata": {
    "colab": {
      "name": "Choosing Loss Functions: Binary Classif.ipynb",
      "private_outputs": true,
      "provenance": [],
      "authorship_tag": "ABX9TyMeVxmYLHGOusf9YjuYVD20",
      "include_colab_link": true
    },
    "kernelspec": {
      "name": "python3",
      "display_name": "Python 3"
    },
    "language_info": {
      "name": "python"
    }
  },
  "cells": [
    {
      "cell_type": "markdown",
      "metadata": {
        "id": "view-in-github",
        "colab_type": "text"
      },
      "source": [
        "<a href=\"https://colab.research.google.com/github/cagBRT/IntroToDNNwKeras/blob/master/Choosing_Loss_Functions_Binary_Classif.ipynb\" target=\"_parent\"><img src=\"https://colab.research.google.com/assets/colab-badge.svg\" alt=\"Open In Colab\"/></a>"
      ]
    },
    {
      "cell_type": "code",
      "metadata": {
        "id": "LE70sodUN7Sn"
      },
      "source": [
        "\n",
        "# mlp for the circles problem with cross entropy loss\n",
        "from sklearn.datasets import make_circles\n",
        "from keras.models import Sequential\n",
        "from keras.layers import Dense\n",
        "from keras.optimizers import SGD\n",
        "from matplotlib import pyplot"
      ],
      "execution_count": null,
      "outputs": []
    },
    {
      "cell_type": "code",
      "metadata": {
        "id": "AHrljva0NVxd"
      },
      "source": [
        "# generate circles\n",
        "X, y = make_circles(n_samples=1000, noise=0.1, random_state=1)"
      ],
      "execution_count": null,
      "outputs": []
    },
    {
      "cell_type": "code",
      "metadata": {
        "id": "PeHFMumdNcdr"
      },
      "source": [
        "# scatter plot of the circles dataset with points colored by class\n",
        "from sklearn.datasets import make_circles\n",
        "from numpy import where\n",
        "from matplotlib import pyplot\n",
        "# generate circles\n",
        "X, y = make_circles(n_samples=1000, noise=0.1, random_state=1)\n",
        "# select indices of points with each class label\n",
        "for i in range(2):\n",
        "\tsamples_ix = where(y == i)\n",
        "\tpyplot.scatter(X[samples_ix, 0], X[samples_ix, 1], label=str(i))\n",
        "pyplot.legend()\n",
        "pyplot.show()"
      ],
      "execution_count": null,
      "outputs": []
    },
    {
      "cell_type": "code",
      "metadata": {
        "id": "6IVIMKjSNjK1"
      },
      "source": [
        "# split into train and test\n",
        "n_train = 500\n",
        "trainX, testX = X[:n_train, :], X[n_train:, :]\n",
        "trainy, testy = y[:n_train], y[n_train:]"
      ],
      "execution_count": null,
      "outputs": []
    },
    {
      "cell_type": "code",
      "metadata": {
        "id": "aQ5Wr7UYNqaV"
      },
      "source": [
        "# define model\n",
        "model = Sequential()\n",
        "model.add(Dense(50, input_dim=2, activation='relu', kernel_initializer='he_uniform'))\n",
        "model.add(Dense(1, activation='sigmoid'))\n",
        "opt = SGD(learning_rate=0.01, momentum=0.9)"
      ],
      "execution_count": null,
      "outputs": []
    },
    {
      "cell_type": "code",
      "metadata": {
        "id": "grgON4TyORKj"
      },
      "source": [
        "model.compile(loss='binary_crossentropy', optimizer=opt, metrics=['accuracy'])"
      ],
      "execution_count": null,
      "outputs": []
    },
    {
      "cell_type": "code",
      "metadata": {
        "id": "UjfN-3lfOV3G"
      },
      "source": [
        "# fit model\n",
        "history = model.fit(trainX, trainy, validation_data=(testX, testy), epochs=200, verbose=0)"
      ],
      "execution_count": null,
      "outputs": []
    },
    {
      "cell_type": "code",
      "metadata": {
        "id": "mwatBpUkOaNZ"
      },
      "source": [
        "# evaluate the model\n",
        "_, train_acc = model.evaluate(trainX, trainy, verbose=0)\n",
        "_, test_acc = model.evaluate(testX, testy, verbose=0)\n",
        "print('Train: %.3f, Test: %.3f' % (train_acc, test_acc))"
      ],
      "execution_count": null,
      "outputs": []
    },
    {
      "cell_type": "code",
      "metadata": {
        "id": "9faNRImQOfSW"
      },
      "source": [
        "# plot loss during training\n",
        "pyplot.subplot(211)\n",
        "pyplot.title('Loss')\n",
        "pyplot.plot(history.history['loss'], label='train')\n",
        "pyplot.plot(history.history['val_loss'], label='test')\n",
        "pyplot.legend()\n",
        "# plot accuracy during training\n",
        "pyplot.subplot(212)\n",
        "pyplot.title('Accuracy')\n",
        "pyplot.plot(history.history['accuracy'], label='train')\n",
        "pyplot.plot(history.history['val_accuracy'], label='test')\n",
        "pyplot.legend()\n",
        "pyplot.show()"
      ],
      "execution_count": null,
      "outputs": []
    }
  ]
}