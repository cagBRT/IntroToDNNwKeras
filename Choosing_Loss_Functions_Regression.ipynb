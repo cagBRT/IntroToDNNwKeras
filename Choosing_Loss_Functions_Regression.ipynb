{
  "nbformat": 4,
  "nbformat_minor": 0,
  "metadata": {
    "colab": {
      "name": "Choosing Loss Functions: Regression",
      "private_outputs": true,
      "provenance": [],
      "authorship_tag": "ABX9TyMwXQhWqh5w1I6F+7+4DBor",
      "include_colab_link": true
    },
    "kernelspec": {
      "name": "python3",
      "display_name": "Python 3"
    },
    "language_info": {
      "name": "python"
    }
  },
  "cells": [
    {
      "cell_type": "markdown",
      "metadata": {
        "id": "view-in-github",
        "colab_type": "text"
      },
      "source": [
        "<a href=\"https://colab.research.google.com/github/cagBRT/IntroToDNNwKeras/blob/master/Choosing_Loss_Functions_Regression.ipynb\" target=\"_parent\"><img src=\"https://colab.research.google.com/assets/colab-badge.svg\" alt=\"Open In Colab\"/></a>"
      ]
    },
    {
      "cell_type": "code",
      "metadata": {
        "id": "VNdmSHKSCrs4"
      },
      "source": [
        "# Clone the entire repo.\n",
        "!git clone -l -s https://github.com/cagBRT/IntroToDNNwKeras.git cloned-repo\n",
        "%cd cloned-repo"
      ],
      "execution_count": null,
      "outputs": []
    },
    {
      "cell_type": "markdown",
      "metadata": {
        "id": "m7zl-vmhDJLH"
      },
      "source": [
        "This notebook discusses how to choose and implement loss functions"
      ]
    },
    {
      "cell_type": "markdown",
      "metadata": {
        "id": "mZUuhC5GC1oJ"
      },
      "source": [
        "# **Regression Loss Functions**"
      ]
    },
    {
      "cell_type": "markdown",
      "metadata": {
        "id": "bCP11L5wC8K-"
      },
      "source": [
        "Mean Squared Error Loss<br>\n",
        "Mean Squared Logarithmic Error Loss<br>\n",
        "Mean Absolute Error Loss<br>"
      ]
    },
    {
      "cell_type": "code",
      "metadata": {
        "id": "MuhiZKH4DxTa"
      },
      "source": [
        "from sklearn.datasets import make_regression\n",
        "from sklearn.preprocessing import StandardScaler\n",
        "from keras.models import Sequential\n",
        "from keras.layers import Dense\n",
        "from keras.optimizers import SGD\n",
        "from matplotlib import pyplot\n",
        "from sklearn.model_selection import train_test_split"
      ],
      "execution_count": null,
      "outputs": []
    },
    {
      "cell_type": "code",
      "metadata": {
        "id": "k6fPCeAzEYlA"
      },
      "source": [
        "NUM_FEATURES = 20"
      ],
      "execution_count": null,
      "outputs": []
    },
    {
      "cell_type": "markdown",
      "metadata": {
        "id": "7rO7Rr6cDcUU"
      },
      "source": [
        "Create a synthetic dataset for doing regression"
      ]
    },
    {
      "cell_type": "code",
      "metadata": {
        "id": "TITjFS_mCxUU"
      },
      "source": [
        "# generate regression dataset\n",
        "X, y = make_regression(n_samples=1000, n_features= NUM_FEATURES, noise=0.2, random_state=1)"
      ],
      "execution_count": null,
      "outputs": []
    },
    {
      "cell_type": "code",
      "metadata": {
        "id": "rsNyxUW0D9CU"
      },
      "source": [
        "# normalize the dataset\n",
        "X = StandardScaler().fit_transform(X)\n",
        "y = StandardScaler().fit_transform(y.reshape(len(y),1))[:,0]"
      ],
      "execution_count": null,
      "outputs": []
    },
    {
      "cell_type": "code",
      "metadata": {
        "id": "m-2rO0gbEEVN"
      },
      "source": [
        "# split into train and test\n",
        "X_train, X_test, y_train, y_test = train_test_split(\n",
        "    X, y, test_size=0.10)"
      ],
      "execution_count": null,
      "outputs": []
    },
    {
      "cell_type": "markdown",
      "metadata": {
        "id": "Ir1e5DQVFmOd"
      },
      "source": [
        "**Mean Squared Error Loss**"
      ]
    },
    {
      "cell_type": "code",
      "metadata": {
        "id": "m1eKQWV9EWLI"
      },
      "source": [
        "# define model\n",
        "model = Sequential()\n",
        "model.add(Dense(25, input_dim=NUM_FEATURES, activation='relu', kernel_initializer='he_uniform'))\n",
        "model.add(Dense(1, activation='linear'))\n",
        "opt = SGD(learning_rate=0.01, momentum=0.9)"
      ],
      "execution_count": null,
      "outputs": []
    },
    {
      "cell_type": "code",
      "metadata": {
        "id": "uieJgmnKEtt0"
      },
      "source": [
        "model.compile(loss='mean_squared_error', optimizer=opt,metrics=['mse'])\n",
        "# fit model\n",
        "historyMSE = model.fit(X_train, y_train, validation_data=(X_test, y_test), epochs=100, verbose=0)"
      ],
      "execution_count": null,
      "outputs": []
    },
    {
      "cell_type": "code",
      "metadata": {
        "id": "U1LeTw_sG_-v"
      },
      "source": [
        "# evaluate the model\n",
        "_,train_mse = model.evaluate(X_train, y_train, verbose=0)\n",
        "_,test_mse = model.evaluate(X_test, y_test, verbose=0)\n",
        "print('Train: %.3f, Test: %.3f' % (train_mse, test_mse))"
      ],
      "execution_count": null,
      "outputs": []
    },
    {
      "cell_type": "code",
      "metadata": {
        "id": "2opobHcoKKb2"
      },
      "source": [
        "# plot loss during training\n",
        "pyplot.title('Loss / Mean Squared Error')\n",
        "pyplot.plot(historyMSE.history['loss'], label='train')\n",
        "pyplot.plot(historyMSE.history['val_loss'], label='test')\n",
        "pyplot.legend()\n",
        "pyplot.show()"
      ],
      "execution_count": null,
      "outputs": []
    },
    {
      "cell_type": "markdown",
      "metadata": {
        "id": "sHtorsiOFzY4"
      },
      "source": [
        "**Mean Squared Logarithmic Error Loss**"
      ]
    },
    {
      "cell_type": "code",
      "metadata": {
        "id": "j2sfsQt_L5H6"
      },
      "source": [
        "model = Sequential()\n",
        "model.add(Dense(25, input_dim=20, activation='relu', kernel_initializer='he_uniform'))\n",
        "model.add(Dense(1, activation='linear'))\n",
        "opt = SGD(learning_rate=0.01, momentum=0.9)"
      ],
      "execution_count": null,
      "outputs": []
    },
    {
      "cell_type": "code",
      "metadata": {
        "id": "JJIk3ud1Fyj9"
      },
      "source": [
        "model.compile(loss='mean_squared_logarithmic_error', optimizer=opt,metrics=['msle'])\n",
        "# fit model\n",
        "historyMSLE = model.fit(X_train, y_train, validation_data=(X_test, y_test), epochs=200, verbose=0)"
      ],
      "execution_count": null,
      "outputs": []
    },
    {
      "cell_type": "code",
      "metadata": {
        "id": "wzDNGqj6G7WW"
      },
      "source": [
        "# evaluate the model\n",
        "_,train_mse = model.evaluate(X_train, y_train, verbose=0)\n",
        "_,test_mse = model.evaluate(X_test, y_test, verbose=0)\n",
        "print('Train: %.3f, Test: %.3f' % (train_mse, test_mse))"
      ],
      "execution_count": null,
      "outputs": []
    },
    {
      "cell_type": "code",
      "metadata": {
        "id": "eP71Gp_kKMhR"
      },
      "source": [
        "# plot loss during training\n",
        "pyplot.title('Loss / Mean Squared Logarithmic Error')\n",
        "pyplot.plot(historyMSLE.history['loss'], label='train')\n",
        "pyplot.plot(historyMSLE.history['val_loss'], label='test')\n",
        "pyplot.legend()\n",
        "pyplot.show()"
      ],
      "execution_count": null,
      "outputs": []
    },
    {
      "cell_type": "markdown",
      "metadata": {
        "id": "L59M78a5GNo5"
      },
      "source": [
        "**Mean Absolute Error Loss**<br>"
      ]
    },
    {
      "cell_type": "code",
      "metadata": {
        "id": "e-XG1r21LjU3"
      },
      "source": [
        "model = Sequential()\n",
        "model.add(Dense(25, input_dim=20, activation='relu', kernel_initializer='he_uniform'))\n",
        "model.add(Dense(1, activation='linear'))\n",
        "opt = SGD(learning_rate=0.01, momentum=0.9)"
      ],
      "execution_count": null,
      "outputs": []
    },
    {
      "cell_type": "code",
      "metadata": {
        "id": "EvSFa0t3GN6G"
      },
      "source": [
        "model.compile(loss='mean_absolute_error', optimizer=opt, metrics=['mae'])\n",
        "# fit model\n",
        "historyMAE = model.fit(X_train, y_train, validation_data=(X_test, y_test), epochs=100, verbose=0)"
      ],
      "execution_count": null,
      "outputs": []
    },
    {
      "cell_type": "code",
      "metadata": {
        "id": "edvzwvUuFP3d"
      },
      "source": [
        "# evaluate the model\n",
        "_,train_mae = model.evaluate(X_train, y_train, verbose=0)\n",
        "_,test_mae = model.evaluate(X_test, y_test, verbose=0)\n",
        "print('Train: %.3f, Test: %.3f' % (train_mse, test_mse))"
      ],
      "execution_count": null,
      "outputs": []
    },
    {
      "cell_type": "code",
      "metadata": {
        "id": "rGfKtO5fFL2a"
      },
      "source": [
        "# plot loss during training\n",
        "pyplot.title('Loss / Mean Squared Error')\n",
        "pyplot.plot(historyMAE.history['loss'], label='train')\n",
        "pyplot.plot(historyMAE.history['val_loss'], label='test')\n",
        "pyplot.legend()\n",
        "pyplot.show()"
      ],
      "execution_count": null,
      "outputs": []
    }
  ]
}