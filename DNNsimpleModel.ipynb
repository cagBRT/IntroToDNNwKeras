{
  "nbformat": 4,
  "nbformat_minor": 0,
  "metadata": {
    "colab": {
      "name": "DNNsimpleModel.ipynb",
      "private_outputs": true,
      "provenance": [],
      "authorship_tag": "ABX9TyN2s7lzNkawoBBEbzOoj7As",
      "include_colab_link": true
    },
    "kernelspec": {
      "name": "python3",
      "display_name": "Python 3"
    },
    "language_info": {
      "name": "python"
    }
  },
  "cells": [
    {
      "cell_type": "markdown",
      "metadata": {
        "id": "view-in-github",
        "colab_type": "text"
      },
      "source": [
        "<a href=\"https://colab.research.google.com/github/cagBRT/IntroToDNNwKeras/blob/master/DNNsimpleModel.ipynb\" target=\"_parent\"><img src=\"https://colab.research.google.com/assets/colab-badge.svg\" alt=\"Open In Colab\"/></a>"
      ]
    },
    {
      "cell_type": "code",
      "metadata": {
        "id": "PiL3MFBC4ggX"
      },
      "source": [
        "# Clone the entire repo.\n",
        "!git clone -l -s https://github.com/cagBRT/IntroToDNNwKeras.git cloned-repo\n",
        "%cd cloned-repo"
      ],
      "execution_count": null,
      "outputs": []
    },
    {
      "cell_type": "markdown",
      "metadata": {
        "id": "NpyICoXc-Kjh"
      },
      "source": [
        "**Import libraries**"
      ]
    },
    {
      "cell_type": "code",
      "metadata": {
        "id": "DdM3VLT63lrM"
      },
      "source": [
        "# first neural network with keras tutorial\n",
        "from numpy import loadtxt\n",
        "from keras.models import Sequential\n",
        "from keras.layers import Dense\n",
        "from tensorflow import keras\n",
        "from sklearn.model_selection import train_test_split\n",
        "from tensorflow.keras.utils import plot_model\n",
        "import pandas as pd"
      ],
      "execution_count": null,
      "outputs": []
    },
    {
      "cell_type": "markdown",
      "metadata": {
        "id": "SAT0nPNO63Sy"
      },
      "source": [
        "**Get the data**<br>\n",
        "The data is from a study on diabetes"
      ]
    },
    {
      "cell_type": "markdown",
      "metadata": {
        "id": "y6sq_JGu4whE"
      },
      "source": [
        "**Relevant Information:**<br>\n",
        "\n",
        "Several constraints were placed on the selection of these instances from a larger database.  In particular, all patients here are females at least 21 years old of Pima Indian heritage.  \n",
        "\n",
        "Number of Instances: 768\n",
        "\n",
        "Number of Attributes: 8 plus class \n",
        "\n",
        "For Each Attribute: (all numeric-valued)\n",
        "   1. Number of times pregnant\n",
        "   2. Plasma glucose concentration a 2 hours in an oral glucose tolerance test\n",
        "   3. Diastolic blood pressure (mm Hg)\n",
        "   4. Triceps skin fold thickness (mm)\n",
        "   5. 2-Hour serum insulin (mu U/ml)\n",
        "   6. Body mass index (weight in kg/(height in m)^2)\n",
        "   7. Diabetes pedigree function\n",
        "   8. Age (years)\n",
        "   9. Class variable (0 or 1)\n"
      ]
    },
    {
      "cell_type": "markdown",
      "metadata": {
        "id": "lcCjgeVv-Opw"
      },
      "source": [
        "**Load the dataset**"
      ]
    },
    {
      "cell_type": "code",
      "metadata": {
        "id": "MDbf7WeU5OEb"
      },
      "source": [
        "# load the dataset\n",
        "dataset = loadtxt('pimaIndian.csv', delimiter=',')\n",
        "# split into input (X) and output (y) variables\n",
        "X = dataset[:,0:8]\n",
        "y = dataset[:,8]"
      ],
      "execution_count": null,
      "outputs": []
    },
    {
      "cell_type": "markdown",
      "metadata": {
        "id": "5m7Wlu5B7Yc7"
      },
      "source": [
        "**Split the data into training and test sets**"
      ]
    },
    {
      "cell_type": "code",
      "metadata": {
        "id": "1mLluDiv5XBO"
      },
      "source": [
        "X_train, X_test, y_train, y_test = train_test_split(\n",
        "    X, y, test_size=0.20)"
      ],
      "execution_count": null,
      "outputs": []
    },
    {
      "cell_type": "markdown",
      "metadata": {
        "id": "AMEYI1H5-Sb8"
      },
      "source": [
        "**Define the model with Keras**<br>\n",
        "[Keras Sequential Model](https://keras.io/api/models/sequential/)"
      ]
    },
    {
      "cell_type": "markdown",
      "metadata": {
        "id": "KLfQ6RjwB8YX"
      },
      "source": [
        "**Activation functions**<br>\n",
        "\n",
        "The ReLU can be used with most types of neural networks.<br>\n",
        "\n",
        "ReLu is also recommended as the default for both Multilayer Perceptron (MLP) and Convolutional Neural Networks (CNNs).<br>"
      ]
    },
    {
      "cell_type": "markdown",
      "source": [
        "Layer options: <br>\n",
        "relu, sigmoid, tanh, elu, tf.keras.layers.LeakyReLU"
      ],
      "metadata": {
        "id": "gMOMbGUr1Ruu"
      }
    },
    {
      "cell_type": "code",
      "metadata": {
        "id": "yc_cBQjQ5hop"
      },
      "source": [
        "# define the keras model\n",
        "model = Sequential()\n",
        "#This adds the 8 inputs and the first hidden layer of 12 nodes\n",
        "model.add(Dense(12, input_dim=8, activation='relu'))\n",
        "model.add(Dense(8, activation='relu'))\n",
        "model.add(Dense(1, activation='sigmoid'))"
      ],
      "execution_count": null,
      "outputs": []
    },
    {
      "cell_type": "code",
      "metadata": {
        "id": "uV-pDvHT5pob"
      },
      "source": [
        "# compile the keras model\n",
        "model.compile(loss='binary_crossentropy', optimizer='adam', metrics=['accuracy'])"
      ],
      "execution_count": null,
      "outputs": []
    },
    {
      "cell_type": "code",
      "metadata": {
        "id": "5UZyNFfdAAbN"
      },
      "source": [
        "# The patience parameter is the amount of epochs to check for improvement\n",
        "early_stop = keras.callbacks.EarlyStopping(monitor='loss', patience=10)"
      ],
      "execution_count": null,
      "outputs": []
    },
    {
      "cell_type": "markdown",
      "metadata": {
        "id": "vB7Kz_B6-cYP"
      },
      "source": [
        "**Train the model**"
      ]
    },
    {
      "cell_type": "code",
      "metadata": {
        "id": "50e6aNFu5th6"
      },
      "source": [
        "# fit the keras model on the dataset\n",
        "history=model.fit(X_train, y_train, epochs=150, \n",
        "                  batch_size=10,callbacks=[early_stop], validation_split=0.1)"
      ],
      "execution_count": null,
      "outputs": []
    },
    {
      "cell_type": "code",
      "source": [
        "print(history.history['accuracy'])"
      ],
      "metadata": {
        "id": "Sw2feCaEh335"
      },
      "execution_count": null,
      "outputs": []
    },
    {
      "cell_type": "code",
      "source": [
        "model.summary()"
      ],
      "metadata": {
        "id": "tGQ26fz5fXtB"
      },
      "execution_count": null,
      "outputs": []
    },
    {
      "cell_type": "code",
      "source": [
        "keras.utils.plot_model(model, \"model.png\")"
      ],
      "metadata": {
        "id": "ehSCqhDcf3if"
      },
      "execution_count": null,
      "outputs": []
    },
    {
      "cell_type": "code",
      "source": [
        "# summarize the model\n",
        "plot_model(model, 'model.png', show_shapes=True)\n"
      ],
      "metadata": {
        "id": "OpkNTPzHfzzt"
      },
      "execution_count": null,
      "outputs": []
    },
    {
      "cell_type": "code",
      "source": [
        "history_dict = history.history\n",
        "print(history_dict.keys())"
      ],
      "metadata": {
        "id": "a5ZUBGHXg7lp"
      },
      "execution_count": null,
      "outputs": []
    },
    {
      "cell_type": "code",
      "source": [
        "import matplotlib.pyplot as plt\n",
        "\n",
        "axes = plt.gca()\n",
        "axes.set_ylim([0,1])\n",
        "plt.plot(history.history['val_accuracy'], label='testing accuracy')\n",
        "plt.plot(history.history['accuracy'], label='training accuracy')\n",
        "plt.title('Accuracy')\n",
        "plt.xlabel('epochs')\n",
        "plt.ylabel('accuracy')\n",
        "plt.legend()\n",
        "plt.show()"
      ],
      "metadata": {
        "id": "zZSu_hj0gbt3"
      },
      "execution_count": null,
      "outputs": []
    },
    {
      "cell_type": "markdown",
      "metadata": {
        "id": "8jnrmBml-gCN"
      },
      "source": [
        "**Evaluate the model**"
      ]
    },
    {
      "cell_type": "code",
      "metadata": {
        "id": "h8Nhfr6-54BY"
      },
      "source": [
        "#model.evaluate returns the loss value & metrics values \n",
        "#for the model in test mode.\n",
        "_,accuracy = model.evaluate(X_test, y_test)\n",
        "print('Accuracy: %.2f' % (accuracy*100))"
      ],
      "execution_count": null,
      "outputs": []
    },
    {
      "cell_type": "markdown",
      "metadata": {
        "id": "xvBL-BeP-r0U"
      },
      "source": [
        "**Assignment 1**<br>\n",
        "Try changing the number of nodes in the hidden layers. <br>\n",
        "How does the training and accuracy change?<br>\n",
        "\n",
        "Try changing the number of epochs,the train/test ratio, and the activation layers. "
      ]
    },
    {
      "cell_type": "markdown",
      "source": [
        "\n",
        "\n",
        "---\n",
        "\n",
        "**Assignment 2**<br>\n",
        "Use the California Housing dataset. <br>\n",
        "Create and train a model to predict median_house_value. \n",
        "\n",
        "---\n",
        "\n"
      ],
      "metadata": {
        "id": "fcBO7fCI0M7U"
      }
    },
    {
      "cell_type": "code",
      "source": [
        "house_df = pd.read_csv('/content/sample_data/california_housing_train.csv')"
      ],
      "metadata": {
        "id": "YePx6akylxSK"
      },
      "execution_count": null,
      "outputs": []
    },
    {
      "cell_type": "code",
      "source": [
        "print(\"shape:\",house_df.shape)\n",
        "house_df.head()"
      ],
      "metadata": {
        "id": "Zs930pcRmM2b"
      },
      "execution_count": null,
      "outputs": []
    },
    {
      "cell_type": "code",
      "source": [
        "house_value = house_df['median_house_value']\n",
        "house_df.drop(columns=['median_house_value'],inplace=True)"
      ],
      "metadata": {
        "id": "NKwtryI4nPin"
      },
      "execution_count": null,
      "outputs": []
    },
    {
      "cell_type": "code",
      "source": [
        "X_train, X_test, y_train, y_test = train_test_split(\n",
        "    house_df,house_value, test_size=0.20)"
      ],
      "metadata": {
        "id": "4BDPvliCm8Fb"
      },
      "execution_count": null,
      "outputs": []
    },
    {
      "cell_type": "code",
      "source": [
        "# define the keras model\n",
        "#This adds the 8 inputs and the first hidden layer of 12 nodes\n",
        "model_house= Sequential()\n",
        "model_house.add(Dense(500, input_dim=8, activation='relu'))\n",
        "model_house.add(Dense(100, activation='relu'))\n",
        "model_house.add(Dense(50, activation='relu'))\n",
        "model_house.add(Dense(1))\n"
      ],
      "metadata": {
        "id": "MANt14KrmlMb"
      },
      "execution_count": null,
      "outputs": []
    },
    {
      "cell_type": "code",
      "source": [
        "# compile the keras model\n",
        "model_house.compile(optimizer='adam', loss='mean_squared_error', metrics=[\"mean_squared_error\"])"
      ],
      "metadata": {
        "id": "nBCuzXp8mpiT"
      },
      "execution_count": null,
      "outputs": []
    },
    {
      "cell_type": "code",
      "source": [
        "# The patience parameter is the amount of epochs to check for improvement\n",
        "early_stop = keras.callbacks.EarlyStopping( patience=10)"
      ],
      "metadata": {
        "id": "nQAi_VbAmuVp"
      },
      "execution_count": null,
      "outputs": []
    },
    {
      "cell_type": "code",
      "source": [
        "# fit the keras model on the dataset\n",
        "history=model_house.fit(X_train, y_train, epochs=50)"
      ],
      "metadata": {
        "id": "Ok8d_Lromymk"
      },
      "execution_count": null,
      "outputs": []
    },
    {
      "cell_type": "markdown",
      "source": [
        "**Make predictions with the model**"
      ],
      "metadata": {
        "id": "uBfcGOHdWk0X"
      }
    },
    {
      "cell_type": "code",
      "source": [
        "y_pred=model_house.predict(X_test)\n",
        "y_pred[y_pred<0]=0\n",
        "y_pred=y_pred.astype(int)"
      ],
      "metadata": {
        "id": "LpfBO3NNOzNy"
      },
      "execution_count": null,
      "outputs": []
    },
    {
      "cell_type": "markdown",
      "source": [
        "**Calculate the Root Mean Squared Error**"
      ],
      "metadata": {
        "id": "H5aQmjI6WoZW"
      }
    },
    {
      "cell_type": "code",
      "source": [
        "from sklearn.metrics import mean_squared_error\n",
        "import numpy as np\n",
        "rms_dnn=np.sqrt(mean_squared_error(y_test, y_pred))\n",
        "rms_dnn"
      ],
      "metadata": {
        "id": "0xkPh9KDPDVr"
      },
      "execution_count": null,
      "outputs": []
    },
    {
      "cell_type": "code",
      "source": [
        "fig, ax=plt.subplots()\n",
        "ax.scatter(y_test, y_pred, edgecolors=(0,0,0))\n",
        "ax.plot([y_pred.min(), y_pred.max()],[y_pred.min(), y_pred.max()], 'k--', lw=4)\n",
        "ax.set_xlabel(\"measured\")\n",
        "ax.set_ylabel('predicted')\n",
        "plt.show()"
      ],
      "metadata": {
        "id": "2KIA2ouTPo8t"
      },
      "execution_count": null,
      "outputs": []
    },
    {
      "cell_type": "markdown",
      "source": [
        "**Compare the score for the sklearn model with the DNN model.**<br>\n",
        "Use the sklearn linear regression model on the same training and test sets. <br>\n"
      ],
      "metadata": {
        "id": "R2ejpw6TTp6w"
      }
    },
    {
      "cell_type": "code",
      "source": [
        "from sklearn.linear_model import LinearRegression\n",
        "model_sklearn=LinearRegression().fit(X_train, y_train)\n",
        "pred_sklearn=model_sklearn.predict(X_test)"
      ],
      "metadata": {
        "id": "d60Xe2W6S_0Y"
      },
      "execution_count": null,
      "outputs": []
    },
    {
      "cell_type": "markdown",
      "source": [
        "**Score for SKLearn Linear Regression Model**<br>\n",
        "Since this is errors - the lower the score the better"
      ],
      "metadata": {
        "id": "G4KmwUMWWGCY"
      }
    },
    {
      "cell_type": "code",
      "source": [
        "print(\"Sklearn model performance:\")\n",
        "model_sklearn.score(X_test, y_test)\n",
        "rms_sklearn=np.sqrt(mean_squared_error(y_test, pred_sklearn))\n",
        "rms_sklearn"
      ],
      "metadata": {
        "id": "lHHPPTqmTWf6"
      },
      "execution_count": null,
      "outputs": []
    },
    {
      "cell_type": "code",
      "source": [
        "print(\"DNN model performance:\")\n",
        "rms_dnn"
      ],
      "metadata": {
        "id": "QM-_2w3NUCC1"
      },
      "execution_count": null,
      "outputs": []
    },
    {
      "cell_type": "code",
      "source": [
        "fig, ax=plt.subplots()\n",
        "ax.scatter(y_test, y_pred, edgecolors=(0,0,0))\n",
        "ax.plot([y_pred.min(), y_pred.max()],[y_pred.min(), y_pred.max()], 'g--', lw=2)\n",
        "ax.plot([pred_sklearn.min(), pred_sklearn.max()], [pred_sklearn.min(), pred_sklearn.max()],color=\"red\", linewidth=1)\n",
        "ax.set_xlabel(\"measured\")\n",
        "ax.set_ylabel('predicted')\n",
        "plt.show()"
      ],
      "metadata": {
        "id": "hQOz3qW6ajmN"
      },
      "execution_count": null,
      "outputs": []
    }
  ]
}