{
  "cells": [
    {
      "cell_type": "markdown",
      "metadata": {
        "id": "YODMye2bEgwF"
      },
      "source": [
        "# Deep Learning models using Keras"
      ]
    },
    {
      "cell_type": "markdown",
      "metadata": {
        "id": "LVl4D6l7EgwK"
      },
      "source": [
        "Keras is a user-friendly neural network library written in Python. We will build a regression model to predict an employee's wage per hour.\n",
        "\n",
        "Note: The datasets we will be using are relatively clean, so we will not perform any data preprocessing in order to get our data ready for modeling. Datasets that you will use in future projects may not be so clean - for example, they may have missing values - so you may need to use data preprocessing techniques to alter your datasets to get more accurate results."
      ]
    },
    {
      "cell_type": "markdown",
      "metadata": {
        "id": "L5Jshat2EgwM"
      },
      "source": [
        "# Regression Model using Keras"
      ]
    },
    {
      "cell_type": "markdown",
      "metadata": {
        "id": "cpzMj8y-EgwN"
      },
      "source": [
        "For our regression deep learning model, the first step is to read in the data we will use as input. For this example, we are using the 'hourly wages' dataset. To start, we will use Pandas to read in the data. I will not go into detail on Pandas, but it is a library you should become familiar with if you're looking to dive further into data science and machine learning.\n",
        "\n",
        "'df' stands for dataframe. Pandas read in the CSV file as a dataframe. The 'head()' function will show the first 5 rows of the dataframe so you can check that the data has been read in properly and can take an initial look at how the data is structured."
      ]
    },
    {
      "cell_type": "code",
      "execution_count": 1,
      "metadata": {
        "id": "i1rVIXYYEgwO"
      },
      "outputs": [],
      "source": [
        "import pandas as pd\n",
        "from keras.models import Sequential\n",
        "from keras.layers import Dense\n",
        "from keras.callbacks import EarlyStopping\n",
        "from tensorflow.keras.utils import to_categorical"
      ]
    },
    {
      "cell_type": "code",
      "source": [
        "# Clone the entire repo.\n",
        "!git clone -l -s https://github.com/cagBRT/IntroToDNNwKeras.git cloned-repo\n",
        "%cd cloned-repo"
      ],
      "metadata": {
        "id": "deDEcmR_HTAz",
        "outputId": "b457af79-7164-4766-9742-39dfc0b8c611",
        "colab": {
          "base_uri": "https://localhost:8080/"
        }
      },
      "execution_count": 24,
      "outputs": [
        {
          "output_type": "stream",
          "name": "stdout",
          "text": [
            "Cloning into 'cloned-repo'...\n",
            "warning: --local is ignored\n",
            "remote: Enumerating objects: 405, done.\u001b[K\n",
            "remote: Counting objects: 100% (68/68), done.\u001b[K\n",
            "remote: Compressing objects: 100% (48/48), done.\u001b[K\n",
            "remote: Total 405 (delta 49), reused 20 (delta 20), pack-reused 337\u001b[K\n",
            "Receiving objects: 100% (405/405), 12.11 MiB | 7.54 MiB/s, done.\n",
            "Resolving deltas: 100% (220/220), done.\n",
            "/content/cloned-repo/cloned-repo\n"
          ]
        }
      ]
    },
    {
      "cell_type": "code",
      "execution_count": 3,
      "metadata": {
        "id": "VOq82fE2EgwR",
        "outputId": "097b6a8c-ebe7-4744-8b10-6f826442aa94",
        "colab": {
          "base_uri": "https://localhost:8080/"
        }
      },
      "outputs": [
        {
          "output_type": "stream",
          "name": "stdout",
          "text": [
            "(534, 10)\n"
          ]
        }
      ],
      "source": [
        "#read in training data\n",
        "wage_df = pd.read_csv('/content/cloned-repo/hourly_wage')\n",
        "\n",
        "#view data structure\n",
        "wage_df.head()\n",
        "print(wage_df.shape)\n"
      ]
    },
    {
      "cell_type": "markdown",
      "metadata": {
        "id": "yDCeI1OnEgwS"
      },
      "source": [
        "Next, we need to split up our dataset into inputs (train_X) and our target (train_y). Our input will be every column except 'wage_per_hour' because 'wage_per_hour' is what we will be attempting to predict. Therefore, 'wage_per_hour' will be our target.\n",
        "\n",
        "We will use the pandas 'drop' function to drop the column 'wage_per_hour' from our dataframe and store it in the variable 'train_X'. This will be our input."
      ]
    },
    {
      "cell_type": "code",
      "execution_count": 4,
      "metadata": {
        "id": "tjw70cmSEgwT",
        "outputId": "bb926ec1-d890-4c5c-9e5c-a6e5b18879db",
        "colab": {
          "base_uri": "https://localhost:8080/",
          "height": 250
        }
      },
      "outputs": [
        {
          "output_type": "execute_result",
          "data": {
            "text/plain": [
              "   union  education_yrs  experience_yrs  age  female  marr  south  \\\n",
              "0      0              8              21   35       1     1      0   \n",
              "1      0              9              42   57       1     1      0   \n",
              "2      0             12               1   19       0     0      0   \n",
              "3      0             12               4   22       0     0      0   \n",
              "4      0             12              17   35       0     1      0   \n",
              "\n",
              "   manufacturing  construction  \n",
              "0              1             0  \n",
              "1              1             0  \n",
              "2              1             0  \n",
              "3              0             0  \n",
              "4              0             0  "
            ],
            "text/html": [
              "\n",
              "  <div id=\"df-8c8b8ce3-024c-440b-b860-135e84ce6339\">\n",
              "    <div class=\"colab-df-container\">\n",
              "      <div>\n",
              "<style scoped>\n",
              "    .dataframe tbody tr th:only-of-type {\n",
              "        vertical-align: middle;\n",
              "    }\n",
              "\n",
              "    .dataframe tbody tr th {\n",
              "        vertical-align: top;\n",
              "    }\n",
              "\n",
              "    .dataframe thead th {\n",
              "        text-align: right;\n",
              "    }\n",
              "</style>\n",
              "<table border=\"1\" class=\"dataframe\">\n",
              "  <thead>\n",
              "    <tr style=\"text-align: right;\">\n",
              "      <th></th>\n",
              "      <th>union</th>\n",
              "      <th>education_yrs</th>\n",
              "      <th>experience_yrs</th>\n",
              "      <th>age</th>\n",
              "      <th>female</th>\n",
              "      <th>marr</th>\n",
              "      <th>south</th>\n",
              "      <th>manufacturing</th>\n",
              "      <th>construction</th>\n",
              "    </tr>\n",
              "  </thead>\n",
              "  <tbody>\n",
              "    <tr>\n",
              "      <th>0</th>\n",
              "      <td>0</td>\n",
              "      <td>8</td>\n",
              "      <td>21</td>\n",
              "      <td>35</td>\n",
              "      <td>1</td>\n",
              "      <td>1</td>\n",
              "      <td>0</td>\n",
              "      <td>1</td>\n",
              "      <td>0</td>\n",
              "    </tr>\n",
              "    <tr>\n",
              "      <th>1</th>\n",
              "      <td>0</td>\n",
              "      <td>9</td>\n",
              "      <td>42</td>\n",
              "      <td>57</td>\n",
              "      <td>1</td>\n",
              "      <td>1</td>\n",
              "      <td>0</td>\n",
              "      <td>1</td>\n",
              "      <td>0</td>\n",
              "    </tr>\n",
              "    <tr>\n",
              "      <th>2</th>\n",
              "      <td>0</td>\n",
              "      <td>12</td>\n",
              "      <td>1</td>\n",
              "      <td>19</td>\n",
              "      <td>0</td>\n",
              "      <td>0</td>\n",
              "      <td>0</td>\n",
              "      <td>1</td>\n",
              "      <td>0</td>\n",
              "    </tr>\n",
              "    <tr>\n",
              "      <th>3</th>\n",
              "      <td>0</td>\n",
              "      <td>12</td>\n",
              "      <td>4</td>\n",
              "      <td>22</td>\n",
              "      <td>0</td>\n",
              "      <td>0</td>\n",
              "      <td>0</td>\n",
              "      <td>0</td>\n",
              "      <td>0</td>\n",
              "    </tr>\n",
              "    <tr>\n",
              "      <th>4</th>\n",
              "      <td>0</td>\n",
              "      <td>12</td>\n",
              "      <td>17</td>\n",
              "      <td>35</td>\n",
              "      <td>0</td>\n",
              "      <td>1</td>\n",
              "      <td>0</td>\n",
              "      <td>0</td>\n",
              "      <td>0</td>\n",
              "    </tr>\n",
              "  </tbody>\n",
              "</table>\n",
              "</div>\n",
              "      <button class=\"colab-df-convert\" onclick=\"convertToInteractive('df-8c8b8ce3-024c-440b-b860-135e84ce6339')\"\n",
              "              title=\"Convert this dataframe to an interactive table.\"\n",
              "              style=\"display:none;\">\n",
              "        \n",
              "  <svg xmlns=\"http://www.w3.org/2000/svg\" height=\"24px\"viewBox=\"0 0 24 24\"\n",
              "       width=\"24px\">\n",
              "    <path d=\"M0 0h24v24H0V0z\" fill=\"none\"/>\n",
              "    <path d=\"M18.56 5.44l.94 2.06.94-2.06 2.06-.94-2.06-.94-.94-2.06-.94 2.06-2.06.94zm-11 1L8.5 8.5l.94-2.06 2.06-.94-2.06-.94L8.5 2.5l-.94 2.06-2.06.94zm10 10l.94 2.06.94-2.06 2.06-.94-2.06-.94-.94-2.06-.94 2.06-2.06.94z\"/><path d=\"M17.41 7.96l-1.37-1.37c-.4-.4-.92-.59-1.43-.59-.52 0-1.04.2-1.43.59L10.3 9.45l-7.72 7.72c-.78.78-.78 2.05 0 2.83L4 21.41c.39.39.9.59 1.41.59.51 0 1.02-.2 1.41-.59l7.78-7.78 2.81-2.81c.8-.78.8-2.07 0-2.86zM5.41 20L4 18.59l7.72-7.72 1.47 1.35L5.41 20z\"/>\n",
              "  </svg>\n",
              "      </button>\n",
              "      \n",
              "  <style>\n",
              "    .colab-df-container {\n",
              "      display:flex;\n",
              "      flex-wrap:wrap;\n",
              "      gap: 12px;\n",
              "    }\n",
              "\n",
              "    .colab-df-convert {\n",
              "      background-color: #E8F0FE;\n",
              "      border: none;\n",
              "      border-radius: 50%;\n",
              "      cursor: pointer;\n",
              "      display: none;\n",
              "      fill: #1967D2;\n",
              "      height: 32px;\n",
              "      padding: 0 0 0 0;\n",
              "      width: 32px;\n",
              "    }\n",
              "\n",
              "    .colab-df-convert:hover {\n",
              "      background-color: #E2EBFA;\n",
              "      box-shadow: 0px 1px 2px rgba(60, 64, 67, 0.3), 0px 1px 3px 1px rgba(60, 64, 67, 0.15);\n",
              "      fill: #174EA6;\n",
              "    }\n",
              "\n",
              "    [theme=dark] .colab-df-convert {\n",
              "      background-color: #3B4455;\n",
              "      fill: #D2E3FC;\n",
              "    }\n",
              "\n",
              "    [theme=dark] .colab-df-convert:hover {\n",
              "      background-color: #434B5C;\n",
              "      box-shadow: 0px 1px 3px 1px rgba(0, 0, 0, 0.15);\n",
              "      filter: drop-shadow(0px 1px 2px rgba(0, 0, 0, 0.3));\n",
              "      fill: #FFFFFF;\n",
              "    }\n",
              "  </style>\n",
              "\n",
              "      <script>\n",
              "        const buttonEl =\n",
              "          document.querySelector('#df-8c8b8ce3-024c-440b-b860-135e84ce6339 button.colab-df-convert');\n",
              "        buttonEl.style.display =\n",
              "          google.colab.kernel.accessAllowed ? 'block' : 'none';\n",
              "\n",
              "        async function convertToInteractive(key) {\n",
              "          const element = document.querySelector('#df-8c8b8ce3-024c-440b-b860-135e84ce6339');\n",
              "          const dataTable =\n",
              "            await google.colab.kernel.invokeFunction('convertToInteractive',\n",
              "                                                     [key], {});\n",
              "          if (!dataTable) return;\n",
              "\n",
              "          const docLinkHtml = 'Like what you see? Visit the ' +\n",
              "            '<a target=\"_blank\" href=https://colab.research.google.com/notebooks/data_table.ipynb>data table notebook</a>'\n",
              "            + ' to learn more about interactive tables.';\n",
              "          element.innerHTML = '';\n",
              "          dataTable['output_type'] = 'display_data';\n",
              "          await google.colab.output.renderOutput(dataTable, element);\n",
              "          const docLink = document.createElement('div');\n",
              "          docLink.innerHTML = docLinkHtml;\n",
              "          element.appendChild(docLink);\n",
              "        }\n",
              "      </script>\n",
              "    </div>\n",
              "  </div>\n",
              "  "
            ]
          },
          "metadata": {},
          "execution_count": 4
        }
      ],
      "source": [
        "#create a dataframe with all training data except the target column\n",
        "wage_data = wage_df.drop(columns=['wage_per_hour'])\n",
        "\n",
        "#check that the target variable has been removed\n",
        "wage_data.head()"
      ]
    },
    {
      "cell_type": "code",
      "execution_count": 5,
      "metadata": {
        "id": "4PMskBQ4EgwU",
        "outputId": "d5f5e4b6-081d-4294-8664-042f1604c203",
        "colab": {
          "base_uri": "https://localhost:8080/",
          "height": 206
        }
      },
      "outputs": [
        {
          "output_type": "execute_result",
          "data": {
            "text/plain": [
              "   wage_per_hour\n",
              "0           5.10\n",
              "1           4.95\n",
              "2           6.67\n",
              "3           4.00\n",
              "4           7.50"
            ],
            "text/html": [
              "\n",
              "  <div id=\"df-a2a4beb5-61e5-468f-8cee-11cb90df4d83\">\n",
              "    <div class=\"colab-df-container\">\n",
              "      <div>\n",
              "<style scoped>\n",
              "    .dataframe tbody tr th:only-of-type {\n",
              "        vertical-align: middle;\n",
              "    }\n",
              "\n",
              "    .dataframe tbody tr th {\n",
              "        vertical-align: top;\n",
              "    }\n",
              "\n",
              "    .dataframe thead th {\n",
              "        text-align: right;\n",
              "    }\n",
              "</style>\n",
              "<table border=\"1\" class=\"dataframe\">\n",
              "  <thead>\n",
              "    <tr style=\"text-align: right;\">\n",
              "      <th></th>\n",
              "      <th>wage_per_hour</th>\n",
              "    </tr>\n",
              "  </thead>\n",
              "  <tbody>\n",
              "    <tr>\n",
              "      <th>0</th>\n",
              "      <td>5.10</td>\n",
              "    </tr>\n",
              "    <tr>\n",
              "      <th>1</th>\n",
              "      <td>4.95</td>\n",
              "    </tr>\n",
              "    <tr>\n",
              "      <th>2</th>\n",
              "      <td>6.67</td>\n",
              "    </tr>\n",
              "    <tr>\n",
              "      <th>3</th>\n",
              "      <td>4.00</td>\n",
              "    </tr>\n",
              "    <tr>\n",
              "      <th>4</th>\n",
              "      <td>7.50</td>\n",
              "    </tr>\n",
              "  </tbody>\n",
              "</table>\n",
              "</div>\n",
              "      <button class=\"colab-df-convert\" onclick=\"convertToInteractive('df-a2a4beb5-61e5-468f-8cee-11cb90df4d83')\"\n",
              "              title=\"Convert this dataframe to an interactive table.\"\n",
              "              style=\"display:none;\">\n",
              "        \n",
              "  <svg xmlns=\"http://www.w3.org/2000/svg\" height=\"24px\"viewBox=\"0 0 24 24\"\n",
              "       width=\"24px\">\n",
              "    <path d=\"M0 0h24v24H0V0z\" fill=\"none\"/>\n",
              "    <path d=\"M18.56 5.44l.94 2.06.94-2.06 2.06-.94-2.06-.94-.94-2.06-.94 2.06-2.06.94zm-11 1L8.5 8.5l.94-2.06 2.06-.94-2.06-.94L8.5 2.5l-.94 2.06-2.06.94zm10 10l.94 2.06.94-2.06 2.06-.94-2.06-.94-.94-2.06-.94 2.06-2.06.94z\"/><path d=\"M17.41 7.96l-1.37-1.37c-.4-.4-.92-.59-1.43-.59-.52 0-1.04.2-1.43.59L10.3 9.45l-7.72 7.72c-.78.78-.78 2.05 0 2.83L4 21.41c.39.39.9.59 1.41.59.51 0 1.02-.2 1.41-.59l7.78-7.78 2.81-2.81c.8-.78.8-2.07 0-2.86zM5.41 20L4 18.59l7.72-7.72 1.47 1.35L5.41 20z\"/>\n",
              "  </svg>\n",
              "      </button>\n",
              "      \n",
              "  <style>\n",
              "    .colab-df-container {\n",
              "      display:flex;\n",
              "      flex-wrap:wrap;\n",
              "      gap: 12px;\n",
              "    }\n",
              "\n",
              "    .colab-df-convert {\n",
              "      background-color: #E8F0FE;\n",
              "      border: none;\n",
              "      border-radius: 50%;\n",
              "      cursor: pointer;\n",
              "      display: none;\n",
              "      fill: #1967D2;\n",
              "      height: 32px;\n",
              "      padding: 0 0 0 0;\n",
              "      width: 32px;\n",
              "    }\n",
              "\n",
              "    .colab-df-convert:hover {\n",
              "      background-color: #E2EBFA;\n",
              "      box-shadow: 0px 1px 2px rgba(60, 64, 67, 0.3), 0px 1px 3px 1px rgba(60, 64, 67, 0.15);\n",
              "      fill: #174EA6;\n",
              "    }\n",
              "\n",
              "    [theme=dark] .colab-df-convert {\n",
              "      background-color: #3B4455;\n",
              "      fill: #D2E3FC;\n",
              "    }\n",
              "\n",
              "    [theme=dark] .colab-df-convert:hover {\n",
              "      background-color: #434B5C;\n",
              "      box-shadow: 0px 1px 3px 1px rgba(0, 0, 0, 0.15);\n",
              "      filter: drop-shadow(0px 1px 2px rgba(0, 0, 0, 0.3));\n",
              "      fill: #FFFFFF;\n",
              "    }\n",
              "  </style>\n",
              "\n",
              "      <script>\n",
              "        const buttonEl =\n",
              "          document.querySelector('#df-a2a4beb5-61e5-468f-8cee-11cb90df4d83 button.colab-df-convert');\n",
              "        buttonEl.style.display =\n",
              "          google.colab.kernel.accessAllowed ? 'block' : 'none';\n",
              "\n",
              "        async function convertToInteractive(key) {\n",
              "          const element = document.querySelector('#df-a2a4beb5-61e5-468f-8cee-11cb90df4d83');\n",
              "          const dataTable =\n",
              "            await google.colab.kernel.invokeFunction('convertToInteractive',\n",
              "                                                     [key], {});\n",
              "          if (!dataTable) return;\n",
              "\n",
              "          const docLinkHtml = 'Like what you see? Visit the ' +\n",
              "            '<a target=\"_blank\" href=https://colab.research.google.com/notebooks/data_table.ipynb>data table notebook</a>'\n",
              "            + ' to learn more about interactive tables.';\n",
              "          element.innerHTML = '';\n",
              "          dataTable['output_type'] = 'display_data';\n",
              "          await google.colab.output.renderOutput(dataTable, element);\n",
              "          const docLink = document.createElement('div');\n",
              "          docLink.innerHTML = docLinkHtml;\n",
              "          element.appendChild(docLink);\n",
              "        }\n",
              "      </script>\n",
              "    </div>\n",
              "  </div>\n",
              "  "
            ]
          },
          "metadata": {},
          "execution_count": 5
        }
      ],
      "source": [
        "#create a label column with only the target column\n",
        "wage_y = wage_df[['wage_per_hour']]\n",
        "\n",
        "#view dataframe\n",
        "wage_y.head()"
      ]
    },
    {
      "cell_type": "code",
      "source": [
        "from sklearn.model_selection import train_test_split\n",
        "X_train, X_test, y_train, y_test = train_test_split(\n",
        "    wage_data, wage_y, test_size=0.20)"
      ],
      "metadata": {
        "id": "O2HInyIPkdnD"
      },
      "execution_count": 6,
      "outputs": []
    },
    {
      "cell_type": "markdown",
      "metadata": {
        "id": "0z_Ifn10EgwV"
      },
      "source": [
        "The model type that we will be using is Sequential. Sequential is the easiest way to build a model in Keras. It allows you to build a model layer by layer. Each layer has weights that correspond to the layer the follows it.\n",
        "\n",
        "We use the 'add()' function to add layers to our model. We will add two layers and an output layer.\n",
        "\n",
        "'Dense' is the layer type. Dense is a standard layer type that works for most cases. In a dense layer, all nodes in the previous layer connect to the nodes in the current layer.\n",
        "\n",
        "We have 10 nodes in each of our input layers. This number can also be in the hundreds or thousands. Increasing the number of nodes in each layer increases model capacity. I will go into further detail about the effects of increasing model capacity shortly.\n",
        "\n",
        "'Activation' is the activation function for the layer. An activation function allows models to take into account nonlinear relationships. For example, if you are predicting diabetes in patients, going from age 10 to 11 is different than going from age 60â??61.\n",
        "\n",
        "The activation function we will be using is ReLU or Rectified Linear Activation. Although it is two linear pieces, it has been proven to work well in neural networks.\n",
        "\n",
        "The first layer needs an input shape. The input shape specifies the number of rows and columns in the input. The number of columns in our input is stored in 'n_cols'. There is nothing after the comma which indicates that there can be any amount of rows.\n",
        "\n",
        "The last layer is the output layer. It only has one node, which is for our prediction.\n",
        "\n",
        "Next, we need to compile our model. Compiling the model takes two parameters: optimizer and loss.\n",
        "\n",
        "The optimizer controls the learning rate. We will be using 'Adam' as our optimizer. Adam is generally a good optimizer to use for many cases. The Adam optimizer adjusts the learning rate throughout training.\n",
        "\n",
        "The learning rate determines how fast the optimal weights for the model are calculated. A smaller learning rate may lead to more accurate weights (up to a certain point), but the time it takes to compute the weights will be longer.\n",
        "\n",
        "For our loss function, we will use 'mean_squared_error'. It is calculated by taking the average squared difference between the predicted and actual values. It is a popular loss function for regression problems. The closer to 0 this is, the better the model performed.\n",
        "\n"
      ]
    },
    {
      "cell_type": "code",
      "execution_count": 7,
      "metadata": {
        "id": "-y7fzUJVEgwW"
      },
      "outputs": [],
      "source": [
        "#create model\n",
        "model = Sequential()\n",
        "\n",
        "#get number of columns in training data\n",
        "n_cols = X_train.shape[1]\n",
        "\n",
        "#add model layers\n",
        "model.add(Dense(10, activation='relu', input_shape=(n_cols,)))\n",
        "model.add(Dense(10, activation='relu'))\n",
        "model.add(Dense(1))\n",
        "\n",
        "#compile model using mse as a measure of model performance\n",
        "model.compile(optimizer='adam', loss='mean_squared_error', metrics=[\"mean_squared_error\"])\n",
        "\n",
        "#set early stopping monitor so the model stops training when it won't improve anymore\n",
        "early_stopping_monitor = EarlyStopping(patience=3)"
      ]
    },
    {
      "cell_type": "markdown",
      "metadata": {
        "id": "CS1b5W8zEgwX"
      },
      "source": [
        "Now we will train our model. To train, we will use the 'fit()' function on our model with the following five parameters: training data (train_X), target data (train_y), validation split, the number of epochs and callbacks.\n",
        "\n",
        "The validation split will randomly split the data into use for training and testing. During training, we will be able to see the validation loss, which gives the mean squared error of our model on the validation set. We will set the validation split at 0.2, which means that 20% of the training data we provide in the model will be set aside for testing model performance.\n",
        "\n",
        "The number of epochs is the number of times the model will cycle through the data. The more epochs we run, the more the model will improve, up to a certain point. After that point, the model will stop improving during each epoch. In addition, the more epochs, the longer the model will take to run. To monitor this, we will use 'early stopping'.\n",
        "\n",
        "Early stopping will stop the model from training before the number of epochs is reached if the model stops improving. We will set our early stopping monitor to 3. This means that after 3 epochs in a row in which the model doesn't improve, training will stop. Sometimes, the validation loss can stop improving then improve in the next epoch, but after 3 epochs in which the validation loss doesn't improve, it usually won't improve again."
      ]
    },
    {
      "cell_type": "code",
      "execution_count": 8,
      "metadata": {
        "id": "hQNkvwR4EgwX",
        "outputId": "89c681e5-27d8-4ab2-a910-4e372046a707",
        "colab": {
          "base_uri": "https://localhost:8080/"
        }
      },
      "outputs": [
        {
          "output_type": "stream",
          "name": "stdout",
          "text": [
            "Epoch 1/30\n",
            "11/11 [==============================] - 3s 66ms/step - loss: 215.1814 - mean_squared_error: 215.1814 - val_loss: 192.3730 - val_mean_squared_error: 192.3730\n",
            "Epoch 2/30\n",
            "11/11 [==============================] - 0s 40ms/step - loss: 171.6583 - mean_squared_error: 171.6583 - val_loss: 150.0679 - val_mean_squared_error: 150.0679\n",
            "Epoch 3/30\n",
            "11/11 [==============================] - 0s 9ms/step - loss: 132.9054 - mean_squared_error: 132.9054 - val_loss: 115.4778 - val_mean_squared_error: 115.4778\n",
            "Epoch 4/30\n",
            "11/11 [==============================] - 0s 11ms/step - loss: 100.7414 - mean_squared_error: 100.7414 - val_loss: 82.6480 - val_mean_squared_error: 82.6480\n",
            "Epoch 5/30\n",
            "11/11 [==============================] - 0s 10ms/step - loss: 68.4711 - mean_squared_error: 68.4711 - val_loss: 52.8435 - val_mean_squared_error: 52.8435\n",
            "Epoch 6/30\n",
            "11/11 [==============================] - 0s 9ms/step - loss: 45.7186 - mean_squared_error: 45.7186 - val_loss: 34.4430 - val_mean_squared_error: 34.4430\n",
            "Epoch 7/30\n",
            "11/11 [==============================] - 0s 15ms/step - loss: 33.0499 - mean_squared_error: 33.0499 - val_loss: 26.2463 - val_mean_squared_error: 26.2463\n",
            "Epoch 8/30\n",
            "11/11 [==============================] - 0s 9ms/step - loss: 28.7307 - mean_squared_error: 28.7307 - val_loss: 24.2500 - val_mean_squared_error: 24.2500\n",
            "Epoch 9/30\n",
            "11/11 [==============================] - 0s 8ms/step - loss: 28.0977 - mean_squared_error: 28.0977 - val_loss: 23.1285 - val_mean_squared_error: 23.1285\n",
            "Epoch 10/30\n",
            "11/11 [==============================] - 0s 20ms/step - loss: 26.8914 - mean_squared_error: 26.8914 - val_loss: 22.1730 - val_mean_squared_error: 22.1730\n",
            "Epoch 11/30\n",
            "11/11 [==============================] - 0s 22ms/step - loss: 25.7757 - mean_squared_error: 25.7757 - val_loss: 21.7335 - val_mean_squared_error: 21.7335\n",
            "Epoch 12/30\n",
            "11/11 [==============================] - 0s 19ms/step - loss: 25.1207 - mean_squared_error: 25.1207 - val_loss: 21.3951 - val_mean_squared_error: 21.3951\n",
            "Epoch 13/30\n",
            "11/11 [==============================] - 0s 14ms/step - loss: 24.7742 - mean_squared_error: 24.7742 - val_loss: 21.2374 - val_mean_squared_error: 21.2374\n",
            "Epoch 14/30\n",
            "11/11 [==============================] - 1s 53ms/step - loss: 24.5517 - mean_squared_error: 24.5517 - val_loss: 21.0431 - val_mean_squared_error: 21.0431\n",
            "Epoch 15/30\n",
            "11/11 [==============================] - 0s 27ms/step - loss: 24.3255 - mean_squared_error: 24.3255 - val_loss: 20.9178 - val_mean_squared_error: 20.9178\n",
            "Epoch 16/30\n",
            "11/11 [==============================] - 0s 10ms/step - loss: 24.0721 - mean_squared_error: 24.0721 - val_loss: 20.8959 - val_mean_squared_error: 20.8959\n",
            "Epoch 17/30\n",
            "11/11 [==============================] - 0s 24ms/step - loss: 23.9401 - mean_squared_error: 23.9401 - val_loss: 20.8621 - val_mean_squared_error: 20.8621\n",
            "Epoch 18/30\n",
            "11/11 [==============================] - 0s 28ms/step - loss: 23.7240 - mean_squared_error: 23.7240 - val_loss: 20.9243 - val_mean_squared_error: 20.9243\n",
            "Epoch 19/30\n",
            "11/11 [==============================] - 0s 17ms/step - loss: 23.5791 - mean_squared_error: 23.5791 - val_loss: 20.8640 - val_mean_squared_error: 20.8640\n",
            "Epoch 20/30\n",
            "11/11 [==============================] - 0s 34ms/step - loss: 23.4061 - mean_squared_error: 23.4061 - val_loss: 20.8812 - val_mean_squared_error: 20.8812\n"
          ]
        },
        {
          "output_type": "execute_result",
          "data": {
            "text/plain": [
              "<keras.callbacks.History at 0x7f68c058f460>"
            ]
          },
          "metadata": {},
          "execution_count": 8
        }
      ],
      "source": [
        "#train model\n",
        "model.fit(X_train, y_train, validation_split=0.2, epochs=30, \n",
        "          callbacks=[early_stopping_monitor])"
      ]
    },
    {
      "cell_type": "markdown",
      "metadata": {
        "id": "IlpHoj5pEgwY"
      },
      "source": [
        "Making predictions on new data\n",
        "\n",
        "If you want to use this model to make predictions on new data, we would use the 'predict()' function, passing in our new data.\n",
        "The output would be 'wage_per_hour' predictions."
      ]
    },
    {
      "cell_type": "code",
      "execution_count": 9,
      "metadata": {
        "id": "Qq35ORSvEgwY",
        "outputId": "ae42fffd-a6ce-4ac6-844b-34fe8837c541",
        "colab": {
          "base_uri": "https://localhost:8080/"
        }
      },
      "outputs": [
        {
          "output_type": "stream",
          "name": "stdout",
          "text": [
            "4/4 [==============================] - 0s 9ms/step\n"
          ]
        }
      ],
      "source": [
        "wage_pred = model.predict(X_test)"
      ]
    },
    {
      "cell_type": "code",
      "source": [
        "y_test_wages=y_test[[\"wage_per_hour\"]].values\n",
        "#y_test_wages"
      ],
      "metadata": {
        "id": "ndm2JK3qq_Dc"
      },
      "execution_count": 10,
      "outputs": []
    },
    {
      "cell_type": "code",
      "source": [
        "#print(\"prediction\", \"\\tground truth\")\n",
        "#for i in range(len(y_test_wages)):\n",
        "#  print(wage_pred[i],\"\\t\", y_test_wages[i])"
      ],
      "metadata": {
        "id": "EWu7LTNDl-0d"
      },
      "execution_count": 11,
      "outputs": []
    },
    {
      "cell_type": "code",
      "source": [
        "import numpy as np\n",
        "from sklearn.metrics import mean_squared_error\n",
        "rms_dnn_1=np.sqrt(mean_squared_error(y_test, wage_pred))\n",
        "rms_dnn_1"
      ],
      "metadata": {
        "id": "41ymV67ovFyg",
        "outputId": "8b84641c-12d8-4be2-a3b1-16db37946eee",
        "colab": {
          "base_uri": "https://localhost:8080/"
        }
      },
      "execution_count": 12,
      "outputs": [
        {
          "output_type": "execute_result",
          "data": {
            "text/plain": [
              "3.8465388249515966"
            ]
          },
          "metadata": {},
          "execution_count": 12
        }
      ]
    },
    {
      "cell_type": "markdown",
      "metadata": {
        "id": "qWguv-zUEgwY"
      },
      "source": [
        "As you increase the number of nodes and layers in a model, the model capacity increases. Increasing model capacity can lead to a more accurate model, up to a certain point, at which the model will stop improving. Generally, the more training data you provide, the larger the model should be. We are only using a tiny amount of data, so our model is pretty small. The larger the model, the more computational capacity it requires and it will take longer to train.\n",
        "\n",
        "Let's create a new model using the same training data as our previous model. This time, we will add a layer and increase the nodes in each layer to 200. We will train the model to see if increasing the model capacity will improve our validation score."
      ]
    },
    {
      "cell_type": "code",
      "execution_count": 13,
      "metadata": {
        "id": "k49HBNnqEgwZ"
      },
      "outputs": [],
      "source": [
        "#training a new model on the same data to show the effect of increasing model capacity\n",
        "#create model\n",
        "model_mc = Sequential()\n",
        "\n",
        "#add model layers\n",
        "model_mc.add(Dense(200, activation='relu', input_shape=(n_cols,)))\n",
        "model_mc.add(Dense(200, activation='relu'))\n",
        "model_mc.add(Dense(200, activation='relu'))\n",
        "model_mc.add(Dense(1))\n",
        "\n",
        "#compile model using mse as a measure of model performance\n",
        "model_mc.compile(optimizer='adam', loss='mean_squared_error', metrics=[\"mean_squared_error\"])"
      ]
    },
    {
      "cell_type": "code",
      "execution_count": 14,
      "metadata": {
        "id": "FBoBuQ_MEgwZ",
        "outputId": "e3f99c31-a310-465a-ca2f-aa7c403a33f3",
        "colab": {
          "base_uri": "https://localhost:8080/"
        }
      },
      "outputs": [
        {
          "output_type": "stream",
          "name": "stdout",
          "text": [
            "Epoch 1/30\n",
            "11/11 [==============================] - 4s 95ms/step - loss: 48.7685 - mean_squared_error: 48.7685 - val_loss: 27.1528 - val_mean_squared_error: 27.1528\n",
            "Epoch 2/30\n",
            "11/11 [==============================] - 0s 18ms/step - loss: 25.7093 - mean_squared_error: 25.7093 - val_loss: 21.8232 - val_mean_squared_error: 21.8232\n",
            "Epoch 3/30\n",
            "11/11 [==============================] - 0s 22ms/step - loss: 23.9340 - mean_squared_error: 23.9340 - val_loss: 21.2545 - val_mean_squared_error: 21.2545\n",
            "Epoch 4/30\n",
            "11/11 [==============================] - 0s 32ms/step - loss: 23.8724 - mean_squared_error: 23.8724 - val_loss: 21.3214 - val_mean_squared_error: 21.3214\n",
            "Epoch 5/30\n",
            "11/11 [==============================] - 0s 25ms/step - loss: 23.8270 - mean_squared_error: 23.8270 - val_loss: 21.2025 - val_mean_squared_error: 21.2025\n",
            "Epoch 6/30\n",
            "11/11 [==============================] - 0s 20ms/step - loss: 23.3228 - mean_squared_error: 23.3228 - val_loss: 21.0321 - val_mean_squared_error: 21.0321\n",
            "Epoch 7/30\n",
            "11/11 [==============================] - 0s 35ms/step - loss: 23.1211 - mean_squared_error: 23.1211 - val_loss: 21.1120 - val_mean_squared_error: 21.1120\n",
            "Epoch 8/30\n",
            "11/11 [==============================] - 0s 22ms/step - loss: 23.4814 - mean_squared_error: 23.4814 - val_loss: 21.1443 - val_mean_squared_error: 21.1443\n",
            "Epoch 9/30\n",
            "11/11 [==============================] - 0s 17ms/step - loss: 22.6671 - mean_squared_error: 22.6671 - val_loss: 22.8376 - val_mean_squared_error: 22.8376\n"
          ]
        },
        {
          "output_type": "execute_result",
          "data": {
            "text/plain": [
              "<keras.callbacks.History at 0x7f68af4ff070>"
            ]
          },
          "metadata": {},
          "execution_count": 14
        }
      ],
      "source": [
        "#train model\n",
        "model_mc.fit(X_train, y_train, validation_split=0.2, \n",
        "             epochs=30, callbacks=[early_stopping_monitor])"
      ]
    },
    {
      "cell_type": "code",
      "execution_count": 15,
      "metadata": {
        "id": "pgDYOteHqEJ5",
        "outputId": "44344504-fdeb-49e9-a295-2caf95915c1f",
        "colab": {
          "base_uri": "https://localhost:8080/"
        }
      },
      "outputs": [
        {
          "output_type": "stream",
          "name": "stdout",
          "text": [
            "4/4 [==============================] - 0s 4ms/step\n"
          ]
        }
      ],
      "source": [
        "wage_pred_mc = model_mc.predict(X_test)"
      ]
    },
    {
      "cell_type": "code",
      "source": [
        "rms_dnn=np.sqrt(mean_squared_error(y_test, wage_pred_mc))\n",
        "rms_dnn"
      ],
      "metadata": {
        "id": "h4i7C9F7vW86",
        "outputId": "fb056d81-7939-4440-b4dc-be417fb045dd",
        "colab": {
          "base_uri": "https://localhost:8080/"
        }
      },
      "execution_count": 16,
      "outputs": [
        {
          "output_type": "execute_result",
          "data": {
            "text/plain": [
              "4.04913160620313"
            ]
          },
          "metadata": {},
          "execution_count": 16
        }
      ]
    },
    {
      "cell_type": "code",
      "source": [
        "#print(\"prediction\", \"\\tground truth\")\n",
        "#for i in range(len(y_test_wages)):\n",
        "#  print(wage_pred_mc[i],\"\\t\", y_test_wages[i])\n"
      ],
      "metadata": {
        "id": "Hp_Ehhp5qLTe"
      },
      "execution_count": 17,
      "outputs": []
    },
    {
      "cell_type": "code",
      "source": [
        "from sklearn.linear_model import LinearRegression\n",
        "model_sklearn=LinearRegression().fit(X_train, y_train)\n",
        "pred_sklearn=model_sklearn.predict(X_test)"
      ],
      "metadata": {
        "id": "M8KVG9F4tL28"
      },
      "execution_count": 18,
      "outputs": []
    },
    {
      "cell_type": "code",
      "source": [
        "model_sklearn.score(X_test, y_test)"
      ],
      "metadata": {
        "id": "c7Cg1fl5tdfc",
        "outputId": "9c9d0492-9aed-419e-ab0d-97dda3ff88ad",
        "colab": {
          "base_uri": "https://localhost:8080/"
        }
      },
      "execution_count": 19,
      "outputs": [
        {
          "output_type": "execute_result",
          "data": {
            "text/plain": [
              "0.16537459507980912"
            ]
          },
          "metadata": {},
          "execution_count": 19
        }
      ]
    },
    {
      "cell_type": "code",
      "source": [
        "import numpy as np\n",
        "from sklearn.metrics import mean_squared_error\n",
        "rms_sklearn=np.sqrt(mean_squared_error(y_test, pred_sklearn))\n",
        "rms_sklearn"
      ],
      "metadata": {
        "id": "B8G4cF8Wt_SL",
        "outputId": "7ffbd6d7-4d53-421e-8bc9-1f0a1356808c",
        "colab": {
          "base_uri": "https://localhost:8080/"
        }
      },
      "execution_count": 20,
      "outputs": [
        {
          "output_type": "execute_result",
          "data": {
            "text/plain": [
              "3.7169730447236735"
            ]
          },
          "metadata": {},
          "execution_count": 20
        }
      ]
    },
    {
      "cell_type": "code",
      "source": [
        "print(\"sklearn model:\", rms_sklearn) \n",
        "print(\"dnn model:\",rms_dnn)\n",
        "print( \"first dnn model:\", rms_dnn_1)"
      ],
      "metadata": {
        "id": "bt1XFXNAVWDQ",
        "outputId": "9b51d6c9-269c-4a56-9a1c-cad12d70d9ed",
        "colab": {
          "base_uri": "https://localhost:8080/"
        }
      },
      "execution_count": 21,
      "outputs": [
        {
          "output_type": "stream",
          "name": "stdout",
          "text": [
            "sklearn model: 3.7169730447236735\n",
            "dnn model: 4.04913160620313\n",
            "first dnn model: 3.8465388249515966\n"
          ]
        }
      ]
    },
    {
      "cell_type": "markdown",
      "source": [
        "\n",
        "\n",
        "---\n",
        "\n",
        "\n",
        "\n",
        "---\n",
        "\n"
      ],
      "metadata": {
        "id": "Qq4wrgxqidd-"
      }
    },
    {
      "cell_type": "markdown",
      "metadata": {
        "id": "oAJ1QLkREgwa"
      },
      "source": [
        "# Classification Model using Keras"
      ]
    },
    {
      "cell_type": "markdown",
      "metadata": {
        "id": "3KmygUY4Egwa"
      },
      "source": [
        "Now let's move on to building our model for classification. Since many steps will be a repeat from the previous model, I will only go over new concepts."
      ]
    },
    {
      "cell_type": "markdown",
      "source": [
        "\n",
        "   Given is the attribute name, attribute type, the measurement unit and a\n",
        "   brief description.  The number of rings is the value to predict: either\n",
        "   as a continuous value or as a classification problem.\n",
        "\n",
        "\tName\t\tData Type\tMeas.\tDescription\n",
        "\t----\t\t---------\t-----\t-----------\n",
        "\tSex\t\tnominal\t\t\tM, F, and I (infant)\n",
        "\tLength\t\tcontinuous\tmm\tLongest shell measurement\n",
        "\tDiameter\tcontinuous\tmm\tperpendicular to length\n",
        "\tHeight\t\tcontinuous\tmm\twith meat in shell\n",
        "\tWhole weight\tcontinuous\tgrams\twhole abalone\n",
        "\tShucked weight\tcontinuous\tgrams\tweight of meat\n",
        "\tViscera weight\tcontinuous\tgrams\tgut weight (after bleeding)\n",
        "\tShell weight\tcontinuous\tgrams\tafter being dried\n",
        "\tRings\t\tinteger\t\t\t+1.5 gives the age in years\n"
      ],
      "metadata": {
        "id": "3XBa0PQyW00R"
      }
    },
    {
      "cell_type": "markdown",
      "source": [
        "Predicting the age of abalone from physical measurements. The age of abalone is determined by cutting the shell through the cone, staining it, and counting the number of rings through a microscope -- a boring and time-consuming task. <br>\n",
        "Other measurements, which are easier to obtain, are used to predict the age. <br>\n",
        "Further information, such as weather patterns and location (hence food availability) may be required to solve the problem."
      ],
      "metadata": {
        "id": "Fur_SncWWnNT"
      }
    },
    {
      "cell_type": "code",
      "execution_count": 26,
      "metadata": {
        "id": "U_3seot9Egwb",
        "outputId": "5ecf4c41-819f-43aa-8b11-c96c325fefbe",
        "colab": {
          "base_uri": "https://localhost:8080/"
        }
      },
      "outputs": [
        {
          "output_type": "execute_result",
          "data": {
            "text/plain": [
              "Index(['M', '0.455', '0.365', '0.095', '0.514', '0.2245', '0.101', '0.15',\n",
              "       '15'],\n",
              "      dtype='object')"
            ]
          },
          "metadata": {},
          "execution_count": 26
        }
      ],
      "source": [
        "#read in training data\n",
        "train_df_2 = pd.read_csv('abalone.data')\n",
        "\n",
        "#view data structure\n",
        "train_df_2.columns"
      ]
    },
    {
      "cell_type": "code",
      "source": [
        "#train_df_2['M'] = train_df_2.M.astype('category')\n",
        "#train_df_2[\"M\"]\n",
        "train_df_2=train_df_2.drop(columns=['M'])"
      ],
      "metadata": {
        "id": "BB0me0FzntrU"
      },
      "execution_count": 27,
      "outputs": []
    },
    {
      "cell_type": "code",
      "source": [
        "cols=train_df_2.columns\n",
        "train_df_2 = train_df_2.astype({'0.455':'float', '0.365':'float', '0.095':'float', '0.514':'float', '0.2245':'float', '0.101':'float', '0.15':'float'})"
      ],
      "metadata": {
        "id": "P1bMoHKgnQs6"
      },
      "execution_count": 28,
      "outputs": []
    },
    {
      "cell_type": "code",
      "execution_count": 29,
      "metadata": {
        "id": "xs1unjgWEgwb",
        "outputId": "2764fd6e-2af3-40ab-aeda-c4054b449b61",
        "colab": {
          "base_uri": "https://localhost:8080/",
          "height": 206
        }
      },
      "outputs": [
        {
          "output_type": "execute_result",
          "data": {
            "text/plain": [
              "   0.455  0.365  0.095   0.514  0.2245   0.101   0.15\n",
              "0  0.350  0.265  0.090  0.2255  0.0995  0.0485  0.070\n",
              "1  0.530  0.420  0.135  0.6770  0.2565  0.1415  0.210\n",
              "2  0.440  0.365  0.125  0.5160  0.2155  0.1140  0.155\n",
              "3  0.330  0.255  0.080  0.2050  0.0895  0.0395  0.055\n",
              "4  0.425  0.300  0.095  0.3515  0.1410  0.0775  0.120"
            ],
            "text/html": [
              "\n",
              "  <div id=\"df-8c69c5c2-e98e-4445-831e-9c32027b12d6\">\n",
              "    <div class=\"colab-df-container\">\n",
              "      <div>\n",
              "<style scoped>\n",
              "    .dataframe tbody tr th:only-of-type {\n",
              "        vertical-align: middle;\n",
              "    }\n",
              "\n",
              "    .dataframe tbody tr th {\n",
              "        vertical-align: top;\n",
              "    }\n",
              "\n",
              "    .dataframe thead th {\n",
              "        text-align: right;\n",
              "    }\n",
              "</style>\n",
              "<table border=\"1\" class=\"dataframe\">\n",
              "  <thead>\n",
              "    <tr style=\"text-align: right;\">\n",
              "      <th></th>\n",
              "      <th>0.455</th>\n",
              "      <th>0.365</th>\n",
              "      <th>0.095</th>\n",
              "      <th>0.514</th>\n",
              "      <th>0.2245</th>\n",
              "      <th>0.101</th>\n",
              "      <th>0.15</th>\n",
              "    </tr>\n",
              "  </thead>\n",
              "  <tbody>\n",
              "    <tr>\n",
              "      <th>0</th>\n",
              "      <td>0.350</td>\n",
              "      <td>0.265</td>\n",
              "      <td>0.090</td>\n",
              "      <td>0.2255</td>\n",
              "      <td>0.0995</td>\n",
              "      <td>0.0485</td>\n",
              "      <td>0.070</td>\n",
              "    </tr>\n",
              "    <tr>\n",
              "      <th>1</th>\n",
              "      <td>0.530</td>\n",
              "      <td>0.420</td>\n",
              "      <td>0.135</td>\n",
              "      <td>0.6770</td>\n",
              "      <td>0.2565</td>\n",
              "      <td>0.1415</td>\n",
              "      <td>0.210</td>\n",
              "    </tr>\n",
              "    <tr>\n",
              "      <th>2</th>\n",
              "      <td>0.440</td>\n",
              "      <td>0.365</td>\n",
              "      <td>0.125</td>\n",
              "      <td>0.5160</td>\n",
              "      <td>0.2155</td>\n",
              "      <td>0.1140</td>\n",
              "      <td>0.155</td>\n",
              "    </tr>\n",
              "    <tr>\n",
              "      <th>3</th>\n",
              "      <td>0.330</td>\n",
              "      <td>0.255</td>\n",
              "      <td>0.080</td>\n",
              "      <td>0.2050</td>\n",
              "      <td>0.0895</td>\n",
              "      <td>0.0395</td>\n",
              "      <td>0.055</td>\n",
              "    </tr>\n",
              "    <tr>\n",
              "      <th>4</th>\n",
              "      <td>0.425</td>\n",
              "      <td>0.300</td>\n",
              "      <td>0.095</td>\n",
              "      <td>0.3515</td>\n",
              "      <td>0.1410</td>\n",
              "      <td>0.0775</td>\n",
              "      <td>0.120</td>\n",
              "    </tr>\n",
              "  </tbody>\n",
              "</table>\n",
              "</div>\n",
              "      <button class=\"colab-df-convert\" onclick=\"convertToInteractive('df-8c69c5c2-e98e-4445-831e-9c32027b12d6')\"\n",
              "              title=\"Convert this dataframe to an interactive table.\"\n",
              "              style=\"display:none;\">\n",
              "        \n",
              "  <svg xmlns=\"http://www.w3.org/2000/svg\" height=\"24px\"viewBox=\"0 0 24 24\"\n",
              "       width=\"24px\">\n",
              "    <path d=\"M0 0h24v24H0V0z\" fill=\"none\"/>\n",
              "    <path d=\"M18.56 5.44l.94 2.06.94-2.06 2.06-.94-2.06-.94-.94-2.06-.94 2.06-2.06.94zm-11 1L8.5 8.5l.94-2.06 2.06-.94-2.06-.94L8.5 2.5l-.94 2.06-2.06.94zm10 10l.94 2.06.94-2.06 2.06-.94-2.06-.94-.94-2.06-.94 2.06-2.06.94z\"/><path d=\"M17.41 7.96l-1.37-1.37c-.4-.4-.92-.59-1.43-.59-.52 0-1.04.2-1.43.59L10.3 9.45l-7.72 7.72c-.78.78-.78 2.05 0 2.83L4 21.41c.39.39.9.59 1.41.59.51 0 1.02-.2 1.41-.59l7.78-7.78 2.81-2.81c.8-.78.8-2.07 0-2.86zM5.41 20L4 18.59l7.72-7.72 1.47 1.35L5.41 20z\"/>\n",
              "  </svg>\n",
              "      </button>\n",
              "      \n",
              "  <style>\n",
              "    .colab-df-container {\n",
              "      display:flex;\n",
              "      flex-wrap:wrap;\n",
              "      gap: 12px;\n",
              "    }\n",
              "\n",
              "    .colab-df-convert {\n",
              "      background-color: #E8F0FE;\n",
              "      border: none;\n",
              "      border-radius: 50%;\n",
              "      cursor: pointer;\n",
              "      display: none;\n",
              "      fill: #1967D2;\n",
              "      height: 32px;\n",
              "      padding: 0 0 0 0;\n",
              "      width: 32px;\n",
              "    }\n",
              "\n",
              "    .colab-df-convert:hover {\n",
              "      background-color: #E2EBFA;\n",
              "      box-shadow: 0px 1px 2px rgba(60, 64, 67, 0.3), 0px 1px 3px 1px rgba(60, 64, 67, 0.15);\n",
              "      fill: #174EA6;\n",
              "    }\n",
              "\n",
              "    [theme=dark] .colab-df-convert {\n",
              "      background-color: #3B4455;\n",
              "      fill: #D2E3FC;\n",
              "    }\n",
              "\n",
              "    [theme=dark] .colab-df-convert:hover {\n",
              "      background-color: #434B5C;\n",
              "      box-shadow: 0px 1px 3px 1px rgba(0, 0, 0, 0.15);\n",
              "      filter: drop-shadow(0px 1px 2px rgba(0, 0, 0, 0.3));\n",
              "      fill: #FFFFFF;\n",
              "    }\n",
              "  </style>\n",
              "\n",
              "      <script>\n",
              "        const buttonEl =\n",
              "          document.querySelector('#df-8c69c5c2-e98e-4445-831e-9c32027b12d6 button.colab-df-convert');\n",
              "        buttonEl.style.display =\n",
              "          google.colab.kernel.accessAllowed ? 'block' : 'none';\n",
              "\n",
              "        async function convertToInteractive(key) {\n",
              "          const element = document.querySelector('#df-8c69c5c2-e98e-4445-831e-9c32027b12d6');\n",
              "          const dataTable =\n",
              "            await google.colab.kernel.invokeFunction('convertToInteractive',\n",
              "                                                     [key], {});\n",
              "          if (!dataTable) return;\n",
              "\n",
              "          const docLinkHtml = 'Like what you see? Visit the ' +\n",
              "            '<a target=\"_blank\" href=https://colab.research.google.com/notebooks/data_table.ipynb>data table notebook</a>'\n",
              "            + ' to learn more about interactive tables.';\n",
              "          element.innerHTML = '';\n",
              "          dataTable['output_type'] = 'display_data';\n",
              "          await google.colab.output.renderOutput(dataTable, element);\n",
              "          const docLink = document.createElement('div');\n",
              "          docLink.innerHTML = docLinkHtml;\n",
              "          element.appendChild(docLink);\n",
              "        }\n",
              "      </script>\n",
              "    </div>\n",
              "  </div>\n",
              "  "
            ]
          },
          "metadata": {},
          "execution_count": 29
        }
      ],
      "source": [
        "#create a dataframe with all training data except the target column\n",
        "train_X_2 = train_df_2.drop(columns=['15'])\n",
        "train_y_2 = train_df_2[[\"15\"]]\n",
        "#check that the target variable has been removed\n",
        "train_X_2.head()"
      ]
    },
    {
      "cell_type": "code",
      "source": [
        "train_y_2"
      ],
      "metadata": {
        "id": "5LMq7JmaYQmW",
        "outputId": "a0476d0b-1132-409a-ef76-2a8ad7d0a42b",
        "colab": {
          "base_uri": "https://localhost:8080/",
          "height": 423
        }
      },
      "execution_count": 30,
      "outputs": [
        {
          "output_type": "execute_result",
          "data": {
            "text/plain": [
              "      15\n",
              "0      7\n",
              "1      9\n",
              "2     10\n",
              "3      7\n",
              "4      8\n",
              "...   ..\n",
              "4171  11\n",
              "4172  10\n",
              "4173   9\n",
              "4174  10\n",
              "4175  12\n",
              "\n",
              "[4176 rows x 1 columns]"
            ],
            "text/html": [
              "\n",
              "  <div id=\"df-e2ee9267-796e-46c0-9228-5c44b189f439\">\n",
              "    <div class=\"colab-df-container\">\n",
              "      <div>\n",
              "<style scoped>\n",
              "    .dataframe tbody tr th:only-of-type {\n",
              "        vertical-align: middle;\n",
              "    }\n",
              "\n",
              "    .dataframe tbody tr th {\n",
              "        vertical-align: top;\n",
              "    }\n",
              "\n",
              "    .dataframe thead th {\n",
              "        text-align: right;\n",
              "    }\n",
              "</style>\n",
              "<table border=\"1\" class=\"dataframe\">\n",
              "  <thead>\n",
              "    <tr style=\"text-align: right;\">\n",
              "      <th></th>\n",
              "      <th>15</th>\n",
              "    </tr>\n",
              "  </thead>\n",
              "  <tbody>\n",
              "    <tr>\n",
              "      <th>0</th>\n",
              "      <td>7</td>\n",
              "    </tr>\n",
              "    <tr>\n",
              "      <th>1</th>\n",
              "      <td>9</td>\n",
              "    </tr>\n",
              "    <tr>\n",
              "      <th>2</th>\n",
              "      <td>10</td>\n",
              "    </tr>\n",
              "    <tr>\n",
              "      <th>3</th>\n",
              "      <td>7</td>\n",
              "    </tr>\n",
              "    <tr>\n",
              "      <th>4</th>\n",
              "      <td>8</td>\n",
              "    </tr>\n",
              "    <tr>\n",
              "      <th>...</th>\n",
              "      <td>...</td>\n",
              "    </tr>\n",
              "    <tr>\n",
              "      <th>4171</th>\n",
              "      <td>11</td>\n",
              "    </tr>\n",
              "    <tr>\n",
              "      <th>4172</th>\n",
              "      <td>10</td>\n",
              "    </tr>\n",
              "    <tr>\n",
              "      <th>4173</th>\n",
              "      <td>9</td>\n",
              "    </tr>\n",
              "    <tr>\n",
              "      <th>4174</th>\n",
              "      <td>10</td>\n",
              "    </tr>\n",
              "    <tr>\n",
              "      <th>4175</th>\n",
              "      <td>12</td>\n",
              "    </tr>\n",
              "  </tbody>\n",
              "</table>\n",
              "<p>4176 rows × 1 columns</p>\n",
              "</div>\n",
              "      <button class=\"colab-df-convert\" onclick=\"convertToInteractive('df-e2ee9267-796e-46c0-9228-5c44b189f439')\"\n",
              "              title=\"Convert this dataframe to an interactive table.\"\n",
              "              style=\"display:none;\">\n",
              "        \n",
              "  <svg xmlns=\"http://www.w3.org/2000/svg\" height=\"24px\"viewBox=\"0 0 24 24\"\n",
              "       width=\"24px\">\n",
              "    <path d=\"M0 0h24v24H0V0z\" fill=\"none\"/>\n",
              "    <path d=\"M18.56 5.44l.94 2.06.94-2.06 2.06-.94-2.06-.94-.94-2.06-.94 2.06-2.06.94zm-11 1L8.5 8.5l.94-2.06 2.06-.94-2.06-.94L8.5 2.5l-.94 2.06-2.06.94zm10 10l.94 2.06.94-2.06 2.06-.94-2.06-.94-.94-2.06-.94 2.06-2.06.94z\"/><path d=\"M17.41 7.96l-1.37-1.37c-.4-.4-.92-.59-1.43-.59-.52 0-1.04.2-1.43.59L10.3 9.45l-7.72 7.72c-.78.78-.78 2.05 0 2.83L4 21.41c.39.39.9.59 1.41.59.51 0 1.02-.2 1.41-.59l7.78-7.78 2.81-2.81c.8-.78.8-2.07 0-2.86zM5.41 20L4 18.59l7.72-7.72 1.47 1.35L5.41 20z\"/>\n",
              "  </svg>\n",
              "      </button>\n",
              "      \n",
              "  <style>\n",
              "    .colab-df-container {\n",
              "      display:flex;\n",
              "      flex-wrap:wrap;\n",
              "      gap: 12px;\n",
              "    }\n",
              "\n",
              "    .colab-df-convert {\n",
              "      background-color: #E8F0FE;\n",
              "      border: none;\n",
              "      border-radius: 50%;\n",
              "      cursor: pointer;\n",
              "      display: none;\n",
              "      fill: #1967D2;\n",
              "      height: 32px;\n",
              "      padding: 0 0 0 0;\n",
              "      width: 32px;\n",
              "    }\n",
              "\n",
              "    .colab-df-convert:hover {\n",
              "      background-color: #E2EBFA;\n",
              "      box-shadow: 0px 1px 2px rgba(60, 64, 67, 0.3), 0px 1px 3px 1px rgba(60, 64, 67, 0.15);\n",
              "      fill: #174EA6;\n",
              "    }\n",
              "\n",
              "    [theme=dark] .colab-df-convert {\n",
              "      background-color: #3B4455;\n",
              "      fill: #D2E3FC;\n",
              "    }\n",
              "\n",
              "    [theme=dark] .colab-df-convert:hover {\n",
              "      background-color: #434B5C;\n",
              "      box-shadow: 0px 1px 3px 1px rgba(0, 0, 0, 0.15);\n",
              "      filter: drop-shadow(0px 1px 2px rgba(0, 0, 0, 0.3));\n",
              "      fill: #FFFFFF;\n",
              "    }\n",
              "  </style>\n",
              "\n",
              "      <script>\n",
              "        const buttonEl =\n",
              "          document.querySelector('#df-e2ee9267-796e-46c0-9228-5c44b189f439 button.colab-df-convert');\n",
              "        buttonEl.style.display =\n",
              "          google.colab.kernel.accessAllowed ? 'block' : 'none';\n",
              "\n",
              "        async function convertToInteractive(key) {\n",
              "          const element = document.querySelector('#df-e2ee9267-796e-46c0-9228-5c44b189f439');\n",
              "          const dataTable =\n",
              "            await google.colab.kernel.invokeFunction('convertToInteractive',\n",
              "                                                     [key], {});\n",
              "          if (!dataTable) return;\n",
              "\n",
              "          const docLinkHtml = 'Like what you see? Visit the ' +\n",
              "            '<a target=\"_blank\" href=https://colab.research.google.com/notebooks/data_table.ipynb>data table notebook</a>'\n",
              "            + ' to learn more about interactive tables.';\n",
              "          element.innerHTML = '';\n",
              "          dataTable['output_type'] = 'display_data';\n",
              "          await google.colab.output.renderOutput(dataTable, element);\n",
              "          const docLink = document.createElement('div');\n",
              "          docLink.innerHTML = docLinkHtml;\n",
              "          element.appendChild(docLink);\n",
              "        }\n",
              "      </script>\n",
              "    </div>\n",
              "  </div>\n",
              "  "
            ]
          },
          "metadata": {},
          "execution_count": 30
        }
      ]
    },
    {
      "cell_type": "markdown",
      "metadata": {
        "id": "7eu1W0mwEgwc"
      },
      "source": [
        "When separating the target column, we need to call the 'to_categorical()' function so that column will be 'one-hot encoded'. Currently, a patient with no diabetes is represented with a 0 in the diabetes column and a patient with diabetes is represented with a 1. \n",
        "\n",
        "With one-hot encoding, the integer will be removed and a binary variable is inputted for each category. In our case, we have two categories: no diabetes and diabetes.\n",
        "\n",
        "A patient with no diabetes will be represented by [1 0] and a patient with diabetes will be represented by [0 1]."
      ]
    },
    {
      "cell_type": "code",
      "execution_count": 31,
      "metadata": {
        "id": "D1cfOE67Egwd",
        "outputId": "92f5ba70-959a-4aa2-be02-902a2b52fbff",
        "colab": {
          "base_uri": "https://localhost:8080/"
        }
      },
      "outputs": [
        {
          "output_type": "execute_result",
          "data": {
            "text/plain": [
              "array([[0., 0., 0., ..., 0., 0., 0.],\n",
              "       [0., 0., 0., ..., 0., 0., 0.],\n",
              "       [0., 0., 0., ..., 0., 0., 0.],\n",
              "       ...,\n",
              "       [0., 0., 0., ..., 0., 0., 0.],\n",
              "       [0., 0., 0., ..., 0., 0., 0.],\n",
              "       [0., 0., 0., ..., 0., 0., 0.]], dtype=float32)"
            ]
          },
          "metadata": {},
          "execution_count": 31
        }
      ],
      "source": [
        "#one-hot encode target column\n",
        "train_y_2 = to_categorical(train_y_2,30)\n",
        "\n",
        "#vcheck that target column has been converted\n",
        "train_y_2"
      ]
    },
    {
      "cell_type": "markdown",
      "metadata": {
        "id": "-EG_hAg2Egwe"
      },
      "source": [
        "The last layer of our model has 2 nodes - one for each option: the patient has diabetes or they don't.\n",
        "\n",
        "The activation is 'softmax'. Softmax makes the output sum up to 1 so the output can be interpreted as probabilities. The model will then make its prediction based on which option has a higher probability.\n",
        "\n",
        "We will use 'categorical_crossentropy' for our loss function. This is the most common choice for classification. A lower score indicates that the model is performing better.\n",
        "\n",
        "To make things even easier to interpret, we will use the 'accuracy' metric to see the accuracy score on the validation set at the end of each epoch."
      ]
    },
    {
      "cell_type": "code",
      "source": [
        "print(train_X_2.shape)\n",
        "outputs=train_y_2.shape\n",
        "print(outputs)"
      ],
      "metadata": {
        "id": "7S-ddP84ZSeq",
        "outputId": "ab62663c-801a-4d9f-f651-024e8d581177",
        "colab": {
          "base_uri": "https://localhost:8080/"
        }
      },
      "execution_count": 32,
      "outputs": [
        {
          "output_type": "stream",
          "name": "stdout",
          "text": [
            "(4176, 7)\n",
            "(4176, 30)\n"
          ]
        }
      ]
    },
    {
      "cell_type": "code",
      "execution_count": 33,
      "metadata": {
        "id": "fwHNlX7WEgwf",
        "outputId": "17a055c5-b910-4ea9-a3a6-482da2b27c6e",
        "colab": {
          "base_uri": "https://localhost:8080/"
        }
      },
      "outputs": [
        {
          "output_type": "stream",
          "name": "stdout",
          "text": [
            "Model: \"sequential_2\"\n",
            "_________________________________________________________________\n",
            " Layer (type)                Output Shape              Param #   \n",
            "=================================================================\n",
            " dense_7 (Dense)             (None, 250)               2000      \n",
            "                                                                 \n",
            " dense_8 (Dense)             (None, 250)               62750     \n",
            "                                                                 \n",
            " dense_9 (Dense)             (None, 250)               62750     \n",
            "                                                                 \n",
            " dense_10 (Dense)            (None, 250)               62750     \n",
            "                                                                 \n",
            " dense_11 (Dense)            (None, 30)                7530      \n",
            "                                                                 \n",
            "=================================================================\n",
            "Total params: 197,780\n",
            "Trainable params: 197,780\n",
            "Non-trainable params: 0\n",
            "_________________________________________________________________\n"
          ]
        }
      ],
      "source": [
        "#create model\n",
        "model_2 = Sequential()\n",
        "#get number of columns in training data\n",
        "inputs=train_X_2.shape[1]\n",
        "#add layers to model\n",
        "model_2.add(Dense(250, activation='relu', input_shape=(inputs,)))\n",
        "model_2.add(Dense(250, activation='relu'))\n",
        "model_2.add(Dense(250, activation='relu'))\n",
        "model_2.add(Dense(250, activation='relu'))\n",
        "model_2.add(Dense(30, activation='softmax'))\n",
        "model_2.summary()"
      ]
    },
    {
      "cell_type": "code",
      "source": [
        "#compile model using accuracy to measure model performance\n",
        "model_2.compile(optimizer='adam', loss='categorical_crossentropy', metrics=['accuracy'])"
      ],
      "metadata": {
        "id": "V-w9_ZfqZCDO"
      },
      "execution_count": 34,
      "outputs": []
    },
    {
      "cell_type": "code",
      "source": [
        "import numpy as np\n",
        "y = np.asarray(train_y_2).astype(np.int32)\n",
        "print(y[1])"
      ],
      "metadata": {
        "id": "JbxZFTSMfGFU",
        "outputId": "77e2b66e-5396-4aa9-88eb-e3cb677878fd",
        "colab": {
          "base_uri": "https://localhost:8080/"
        }
      },
      "execution_count": 35,
      "outputs": [
        {
          "output_type": "stream",
          "name": "stdout",
          "text": [
            "[0 0 0 0 0 0 0 0 0 1 0 0 0 0 0 0 0 0 0 0 0 0 0 0 0 0 0 0 0 0]\n"
          ]
        }
      ]
    },
    {
      "cell_type": "code",
      "source": [
        "#train_X_2 = np.array([np.array(val) for val in train_X_2])"
      ],
      "metadata": {
        "id": "L8pkXD_6mQC0"
      },
      "execution_count": 36,
      "outputs": []
    },
    {
      "cell_type": "code",
      "execution_count": null,
      "metadata": {
        "id": "E6CaY2OAEgwf",
        "outputId": "a7e29f56-efc0-4b84-f049-852879e1079d",
        "colab": {
          "base_uri": "https://localhost:8080/"
        }
      },
      "outputs": [
        {
          "output_type": "stream",
          "name": "stdout",
          "text": [
            "Epoch 1/120\n",
            "131/131 [==============================] - 2s 7ms/step - loss: 2.4147 - accuracy: 0.1968\n",
            "Epoch 2/120\n",
            "131/131 [==============================] - 1s 6ms/step - loss: 2.1061 - accuracy: 0.2457\n",
            "Epoch 3/120\n",
            "131/131 [==============================] - 1s 6ms/step - loss: 2.0281 - accuracy: 0.2534\n",
            "Epoch 4/120\n",
            "131/131 [==============================] - 1s 6ms/step - loss: 2.0008 - accuracy: 0.2610\n",
            "Epoch 5/120\n",
            "131/131 [==============================] - 1s 9ms/step - loss: 1.9808 - accuracy: 0.2620\n",
            "Epoch 6/120\n",
            "131/131 [==============================] - 1s 6ms/step - loss: 1.9756 - accuracy: 0.2610\n",
            "Epoch 7/120\n",
            "131/131 [==============================] - 1s 6ms/step - loss: 1.9675 - accuracy: 0.2615\n",
            "Epoch 8/120\n",
            "131/131 [==============================] - 1s 6ms/step - loss: 1.9567 - accuracy: 0.2701\n",
            "Epoch 9/120\n",
            "131/131 [==============================] - 1s 6ms/step - loss: 1.9619 - accuracy: 0.2739\n",
            "Epoch 10/120\n",
            "131/131 [==============================] - 1s 7ms/step - loss: 1.9541 - accuracy: 0.2675\n",
            "Epoch 11/120\n",
            "131/131 [==============================] - 1s 6ms/step - loss: 1.9471 - accuracy: 0.2747\n",
            "Epoch 12/120\n",
            "131/131 [==============================] - 1s 8ms/step - loss: 1.9441 - accuracy: 0.2701\n",
            "Epoch 13/120\n",
            "  1/131 [..............................] - ETA: 1s - loss: 1.9345 - accuracy: 0.1250"
          ]
        }
      ],
      "source": [
        "#train model\n",
        "model_2.fit(train_X_2, train_y_2, epochs=120)"
      ]
    }
  ],
  "metadata": {
    "kernelspec": {
      "display_name": "Python 3",
      "language": "python",
      "name": "python3"
    },
    "language_info": {
      "codemirror_mode": {
        "name": "ipython",
        "version": 3
      },
      "file_extension": ".py",
      "mimetype": "text/x-python",
      "name": "python",
      "nbconvert_exporter": "python",
      "pygments_lexer": "ipython3",
      "version": "3.6.5"
    },
    "colab": {
      "provenance": []
    }
  },
  "nbformat": 4,
  "nbformat_minor": 0
}