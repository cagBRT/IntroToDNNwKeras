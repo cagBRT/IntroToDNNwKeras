{
  "nbformat": 4,
  "nbformat_minor": 0,
  "metadata": {
    "colab": {
      "name": "IntroToDNNwKeras_Spanish.ipynb",
      "private_outputs": true,
      "provenance": [],
      "collapsed_sections": [],
      "include_colab_link": true
    },
    "kernelspec": {
      "name": "python3",
      "display_name": "Python 3"
    },
    "accelerator": "TPU"
  },
  "cells": [
    {
      "cell_type": "markdown",
      "metadata": {
        "id": "view-in-github",
        "colab_type": "text"
      },
      "source": [
        "<a href=\"https://colab.research.google.com/github/cagBRT/IntroToDNNwKeras/blob/master/IntroToDNNwKeras_Spanish.ipynb\" target=\"_parent\"><img src=\"https://colab.research.google.com/assets/colab-badge.svg\" alt=\"Open In Colab\"/></a>"
      ]
    },
    {
      "cell_type": "markdown",
      "metadata": {
        "id": "40M3_WC1ni_8"
      },
      "source": [
        "**PASO 1**"
      ]
    },
    {
      "cell_type": "markdown",
      "metadata": {
        "id": "UZW-NHVP7IeS"
      },
      "source": [
        "###Clone el repositorio para obtener las diapositivas y el modelo para el curso"
      ]
    },
    {
      "cell_type": "code",
      "metadata": {
        "id": "u2fLC-va7oeM"
      },
      "source": [
        "# Clone the entire repo.\n",
        "!git clone -l -s https://github.com/cagBRT/IntroToDNNwKeras.git cloned-repo\n",
        "%cd cloned-repo"
      ],
      "execution_count": null,
      "outputs": []
    },
    {
      "cell_type": "code",
      "metadata": {
        "id": "3lbTD6XA7p0O"
      },
      "source": [
        "from IPython.display import Image\n",
        "def page(num):\n",
        "    return Image(\"Intro to Deep Neural Networks with Keras (\"+str(num)+ \").png\")\n",
        "print(\"done\")"
      ],
      "execution_count": null,
      "outputs": []
    },
    {
      "cell_type": "markdown",
      "metadata": {
        "id": "k6y3OiA_aMgd"
      },
      "source": [
        "**PASO 2**"
      ]
    },
    {
      "cell_type": "code",
      "metadata": {
        "id": "vW7TyrJt7xBI"
      },
      "source": [
        "from IPython.display import Image\n",
        "Image(\"Intro to Deep Neural Networks with Keras (2).png\")"
      ],
      "execution_count": null,
      "outputs": []
    },
    {
      "cell_type": "code",
      "metadata": {
        "id": "pzDDYhIPJXbU"
      },
      "source": [
        "from IPython.display import Image\n",
        "Image(\"Intro to Deep Neural Networks with Keras (23).png\")"
      ],
      "execution_count": null,
      "outputs": []
    },
    {
      "cell_type": "markdown",
      "metadata": {
        "id": "5dh1Yax99V7a"
      },
      "source": [
        "##¿Por qué estamos usando Keras?\n",
        "\n",
        "Keras es el framework más popular para deep learning."
      ]
    },
    {
      "cell_type": "code",
      "metadata": {
        "id": "Tw95vEuQ9Mv3"
      },
      "source": [
        "page(4)"
      ],
      "execution_count": null,
      "outputs": []
    },
    {
      "cell_type": "markdown",
      "metadata": {
        "id": "cx2jwfvt-GKa"
      },
      "source": [
        "Keras es un API de alto nivel, lo cual significa que es muy fácil de usar y comúnmente hay muy poca necesidad de debuggear código. Es una excelente opción para el prototipado rápido ya que se puede crear un modelo en tan sólo unos minutos.\n",
        "\n",
        "No es un framework de alto rendimiento y es más adecuado para conjuntos de datos pequeños. Por esto, en adición a Keras, es posible que desee aprender también TensorFlow o PyTorch."
      ]
    },
    {
      "cell_type": "code",
      "metadata": {
        "id": "Eq2byu7P-CrG"
      },
      "source": [
        "page(5)"
      ],
      "execution_count": null,
      "outputs": []
    },
    {
      "cell_type": "markdown",
      "metadata": {
        "id": "ZO1uhtf_kS_A"
      },
      "source": [
        "##Instale las librerías necesarias\n",
        "\n",
        "https://www.codeastar.com/visualize-convolutional-neural-network/\n",
        "\n"
      ]
    },
    {
      "cell_type": "code",
      "metadata": {
        "id": "9rvskYlLmkT9"
      },
      "source": [
        "from __future__ import absolute_import, division, print_function, unicode_literals\n",
        "\n",
        "# Install TensorFlow\n",
        "try:\n",
        "  # %tensorflow_version only exists in Colab.\n",
        "  %tensorflow_version 2.x\n",
        "except Exception:\n",
        "  pass\n",
        "\n",
        "import tensorflow as tf\n",
        "\n",
        "!pip install keras"
      ],
      "execution_count": null,
      "outputs": []
    },
    {
      "cell_type": "markdown",
      "metadata": {
        "id": "gArFCOH5kbEd"
      },
      "source": [
        "##Cargue el conjunto datos de MNIST desde KERAS\n"
      ]
    },
    {
      "cell_type": "code",
      "metadata": {
        "id": "whLpCzN9_aKP"
      },
      "source": [
        "page(6)"
      ],
      "execution_count": null,
      "outputs": []
    },
    {
      "cell_type": "markdown",
      "metadata": {
        "id": "AjB6rdUJuFsv"
      },
      "source": [
        "La base de datos MNIST (Modified National Institute of Standards and Technology database) es una gran base de datos conformada por dígitos escritos manualmente los cuales son usados comúnmente para entrenar diversos sistemas de procesamiento de imágenes. </br>\n",
        "\n",
        "La base de datos también es ampliamente usada para entrenar y probar en el campo de machine learning. Las imágenes en blanco y negro de NIST fueron normalizadas para ajustarse dentro de un cuadro delimitado a 28x28 píxeles y suavizado, el cual introdujo niveles en la escala de grises.</br>\n",
        "\n",
        "La base de datos de MNIST contiene 60,000 imágenes de entrenamiento y 10,000 imágenes de prueba. </br> \n",
        "\n",
        "Han habido númerosos artículos científicos sobre intentos de lograr la tasa de error más baja posible; un artículo, usando un sistema jerarquíco de redes neuronales convolucionales (Convolutional Neural Networks), logra obtener una tasa de error en la base de datos de MNIST del 0.23%. Los creadores originales de la base de datos conservan una lista de algunos de los métodos probados en el artículo. En su artículo original, usan una máquina de vectores de soporte (Support-Vector Machine) para obtener una tasa de error del 0.8%.\n",
        "\n",
        "Un conjunto de datos extendido similar a MNIST, llamado EMNIST, ha sido publicado en 2017, el cual contiene 240,000 imágenes de entrenamiento, y 40,000 imágenes de prueba de dígitos y caracteres escritos a manos."
      ]
    },
    {
      "cell_type": "code",
      "metadata": {
        "id": "GCX44ozIkLLs"
      },
      "source": [
        "from keras.datasets import mnist\n",
        "\n",
        "(x_train, y_train), (x_test, y_test) = mnist.load_data()\n",
        "print(\"done\")"
      ],
      "execution_count": null,
      "outputs": []
    },
    {
      "cell_type": "markdown",
      "metadata": {
        "id": "jrN7kMzivWvQ"
      },
      "source": [
        "Imprima el número de imágenes para los conjuntos de entrenamiento y prueba.\n",
        "\n",
        "Debe haber 60,000 imágenes en el conjunto de entrenamiento. El conjunto de pruebas debe tener 10,000 imágenes."
      ]
    },
    {
      "cell_type": "code",
      "metadata": {
        "id": "DU1lSUFtAHlf"
      },
      "source": [
        "page(9)"
      ],
      "execution_count": null,
      "outputs": []
    },
    {
      "cell_type": "code",
      "metadata": {
        "id": "KK-TVXSVbxz9"
      },
      "source": [
        "print('Number of images in x_train', x_train.shape[0])\n",
        "print('Number of images in x_test', x_test.shape[0])"
      ],
      "execution_count": null,
      "outputs": []
    },
    {
      "cell_type": "markdown",
      "metadata": {
        "id": "-zgJP7KRvqtn"
      },
      "source": [
        "Cuando se imprime la forma (shape) del conjunto de entrenamiento, se observa que son 60,000 imágenes de tamaño de 28x28."
      ]
    },
    {
      "cell_type": "code",
      "metadata": {
        "id": "QgfLXfYFAPaj"
      },
      "source": [
        "page(10)"
      ],
      "execution_count": null,
      "outputs": []
    },
    {
      "cell_type": "markdown",
      "metadata": {
        "id": "pJY7wjgSv6tn"
      },
      "source": [
        "Imprima el arreglo para la imagen de entrenamiento #7777.\n",
        "\n",
        "Los valores impresos son aquellos para los pixeles en el arreglo de 28x28. Si entrecierra sus ojos, podrá ver que los valores diferentes a cero forman un '8'."
      ]
    },
    {
      "cell_type": "code",
      "metadata": {
        "id": "VnZBKpIIdM39"
      },
      "source": [
        "image_index = 7777\n",
        "print(x_train[image_index])"
      ],
      "execution_count": null,
      "outputs": []
    },
    {
      "cell_type": "markdown",
      "metadata": {
        "id": "Q0GZMENgxJ1u"
      },
      "source": [
        "Ahora, grafique las imagénes de 28x28 píxeles.  Primero usando color, después usando la escala de grises."
      ]
    },
    {
      "cell_type": "code",
      "metadata": {
        "id": "2jFxQbuEXdrT"
      },
      "source": [
        "import matplotlib.pyplot as plt\n",
        "%matplotlib inline  \n",
        "print(y_train[image_index]) "
      ],
      "execution_count": null,
      "outputs": []
    },
    {
      "cell_type": "code",
      "metadata": {
        "id": "n-jXnulMcPDf"
      },
      "source": [
        "plt.imshow(x_train[image_index], cmap='Greys')"
      ],
      "execution_count": null,
      "outputs": []
    },
    {
      "cell_type": "markdown",
      "metadata": {
        "id": "tkWApMz7zqc8"
      },
      "source": [
        "Verifique las imágenes de prueba graficando un ejemplo de una imagen de prueba."
      ]
    },
    {
      "cell_type": "code",
      "metadata": {
        "id": "dBiMGAo2mQX2"
      },
      "source": [
        "import matplotlib.pyplot as plt\n",
        "%matplotlib inline  \n",
        "test_image_index = 995\n",
        "print(y_train[test_image_index]) \n"
      ],
      "execution_count": null,
      "outputs": []
    },
    {
      "cell_type": "code",
      "metadata": {
        "id": "jHICMT-OFDxl"
      },
      "source": [
        "plt.imshow(x_train[test_image_index], cmap='Greys')"
      ],
      "execution_count": null,
      "outputs": []
    },
    {
      "cell_type": "markdown",
      "metadata": {
        "id": "i_AVwdnikmI_"
      },
      "source": [
        "##Prepare los datos para el modelo"
      ]
    },
    {
      "cell_type": "code",
      "metadata": {
        "id": "4kKLxaLSAb4c"
      },
      "source": [
        "page(11)"
      ],
      "execution_count": null,
      "outputs": []
    },
    {
      "cell_type": "markdown",
      "metadata": {
        "id": "HlB3vR2lyHO1"
      },
      "source": [
        "Ahora mismo, los datos son una serie de arreglos de 28x28x1. Se necesitan 4 dimensiones para usar el API de Keras, entonces, añada otra dimensión usando la función \"reshape\".\n",
        "\n",
        "Divida el rango entre 255. El rango puede ser descrito con un 0.0-1.0 donde 0.0 significa 0 (0x00) y 1.0 significa 255 (0xFF).\n",
        "\n",
        "La normalización le ayudará a remover distorsiones causadas por luces y sombras en una imagen."
      ]
    },
    {
      "cell_type": "code",
      "metadata": {
        "id": "bjjp-XhikRMF"
      },
      "source": [
        "x_train = x_train.astype('float32')\n",
        "x_test = x_test.astype('float32')\n",
        "x_train /= 255\n",
        "x_test /= 255\n",
        "\n",
        "# Reshaping the array to 4-dims so that it can work with the Keras API\n",
        "x_train = x_train.reshape(x_train.shape[0], 28, 28, 1)\n",
        "x_test = x_test.reshape(x_test.shape[0], 28, 28, 1)\n",
        "#print(x_train[image_index])\n",
        "print(\"done\")"
      ],
      "execution_count": null,
      "outputs": []
    },
    {
      "cell_type": "markdown",
      "metadata": {
        "id": "Eh1ELDglkzPp"
      },
      "source": [
        "##Transforme las etiquetas a una codificación One-hot\n",
        "\n",
        "Si las etiquetas se dejan como dígitos, el modelo podría interpretarlas como 0< 1 <2 <3 <4 <5 <6 <7 <8 <9. Lo cual sería incorrecto.\n",
        "\n",
        "Para resolver este problema, se realiza la codificación One-hot de los dígitos."
      ]
    },
    {
      "cell_type": "code",
      "metadata": {
        "id": "qUT__-QIAkxu"
      },
      "source": [
        "page(12)"
      ],
      "execution_count": null,
      "outputs": []
    },
    {
      "cell_type": "code",
      "metadata": {
        "id": "93eyBDz9kz4J"
      },
      "source": [
        "from tensorflow.keras.utils import to_categorical\n",
        "import numpy as np\n",
        "\n",
        "#The digits are encoded into 10 categories\n",
        "y_train = to_categorical(y_train, 10)\n",
        "y_test = to_categorical(y_test, 10)\n",
        "print(\"done\")"
      ],
      "execution_count": null,
      "outputs": []
    },
    {
      "cell_type": "code",
      "metadata": {
        "id": "MfRUDcEJ8_Ze"
      },
      "source": [
        "#Check the digit for your chosen test \n",
        "digit = np.argmax(y_train[image_index])\n",
        "#print(\"The one hot encoding for the chosen digit is \" + str(y_train[image_index]))\n",
        "print(\"The chosen digit is \" + str(digit) + \"\\n\")"
      ],
      "execution_count": null,
      "outputs": []
    },
    {
      "cell_type": "code",
      "metadata": {
        "id": "qkIQrPdGESz6"
      },
      "source": [
        "#This code was added to get inputs for predictions. \n",
        "#Delete this code when using your own models\n",
        "\n",
        "import numpy as np\n",
        "x_check = x_test[9995:9999]\n",
        "y_check = y_test[9995:9999] \n",
        "#x_test = np.delete(x_test, [9995,9996,9997,9998,9999] )\n",
        "#y_test = np.delete(y_test, [9995,9996,9997,9998,9999] )\n",
        "#print(x_test.shape)\n",
        "#print(y_test.shape)\n",
        "#print(x_check.shape)\n",
        "#print(y_check.shape)"
      ],
      "execution_count": null,
      "outputs": []
    },
    {
      "cell_type": "markdown",
      "metadata": {
        "id": "am-v6R3nKbgT"
      },
      "source": [
        "Los humanos ven la imagen completa."
      ]
    },
    {
      "cell_type": "code",
      "metadata": {
        "id": "i5f2piWCJ9Ma"
      },
      "source": [
        "Image(\"bike.png\")"
      ],
      "execution_count": null,
      "outputs": []
    },
    {
      "cell_type": "markdown",
      "metadata": {
        "id": "rpP-2dirKhmA"
      },
      "source": [
        "A los modelos de machine learning se les deben mostrar pedazos de la imagen, para que después predigan que es una bicicleta."
      ]
    },
    {
      "cell_type": "code",
      "metadata": {
        "id": "8LB_yX3pKS85"
      },
      "source": [
        "Image(\"bikeParts.png\")"
      ],
      "execution_count": null,
      "outputs": []
    },
    {
      "cell_type": "markdown",
      "metadata": {
        "id": "ehVdd0sKlTBW"
      },
      "source": [
        "##Comprendiendo las capas usadas en Redes Neuronales Convolucionales (Convolutional Neural Networks)"
      ]
    },
    {
      "cell_type": "code",
      "metadata": {
        "id": "sIR-msEIG9wC"
      },
      "source": [
        "page(15)"
      ],
      "execution_count": null,
      "outputs": []
    },
    {
      "cell_type": "markdown",
      "metadata": {
        "id": "yr-IDfb6EMtV"
      },
      "source": [
        "##Convolución\n",
        "La convolución es básicamente filtrar una imagen con un filtro de píxeles más pequeño (también llamado núcleo o kernel) para reducir el tamaño de la imagen sin perder la relación entre píxeles. La relación entre píxeles es crucial para que el modelo aprenda acerca de la imagen."
      ]
    },
    {
      "cell_type": "markdown",
      "metadata": {
        "id": "Qx8aIt45Hc2c"
      },
      "source": [
        "En las figuras de abajo, el núcleo (kernel) 2x2 es convolucionado con una imagen 4x4. El núcleo (kernel) \"avanza\" a través de la imagen un píxel a la vez.<br><br>\n",
        "\n",
        "En este caso el avance (stride) es de 1, pero este avance puede ser cualquier número. El núcleo (kernel) también puede ser de cualquier tamaño, pero usualmente es menor que la imagen y mayor a una matriz 1x1. El tamaño de núcleo (kernel) más comúnmente usado es de 3x3.<br><br>\n",
        "\n",
        "Para calcular los valores de la capa convolucionada: multiplique el píxel de la imagen con el píxel correspondiente del núcleo (kernel) y sume los valores."
      ]
    },
    {
      "cell_type": "code",
      "metadata": {
        "id": "yeq7A303HSmS"
      },
      "source": [
        "Image(\"Intro to Deep Neural Networks with Keras (116).png\",width=690)"
      ],
      "execution_count": null,
      "outputs": []
    },
    {
      "cell_type": "code",
      "metadata": {
        "id": "JcHlYlBgHVmi"
      },
      "source": [
        "Image(\"Intro to Deep Neural Networks with Keras (16).png\",width=690)"
      ],
      "execution_count": null,
      "outputs": []
    },
    {
      "cell_type": "markdown",
      "metadata": {
        "id": "gMrGtxVnKqYa"
      },
      "source": [
        "Esta imagen y núcleo (kernel) requieren 9 pasos para filtrar completamente la imagen. Entonces, en la novena convolución. la capa de convolución está completa.<br><br>\n",
        "\n",
        "Observe que la capa convolucionada es más pequeña que la imagen original. Para este caso, esto es bueno, la capa convolucionada más pequeña hace la red más pequeña y más fácil de entrenar. <br><br>\n",
        "\n",
        "Para mantener la imagen convolucionada del mismo tamaño que la imagen original, se añadieron filas y columnas de ceros a la imagen original y estas son usadas por el núcleo (kernel) durante la convolución. Estas filas y columnas adicionales son llamadas \"relleno\" (padding). "
      ]
    },
    {
      "cell_type": "code",
      "metadata": {
        "id": "d8Fff3BaHYS7"
      },
      "source": [
        "page(18)"
      ],
      "execution_count": null,
      "outputs": []
    },
    {
      "cell_type": "markdown",
      "metadata": {
        "id": "GbqD_Y5fUCJF"
      },
      "source": [
        "Keras incializará los núcleos (kernels) de forma aleatoria cuando se entrene el modelo. Lo cual es bueno porque le ahorra de escribir el código para inicializar todos los parámetros. <br><br>\n",
        "\n",
        "La desventaja es que cada vez que se entrene el modelo los valores de inicialización cambian, por lo que el rendimiento de su modelo cambiará.<br><br>\n",
        "**Es una buena práctica guardar siempre sus modelos después del entrenamiento, y seleccionar el modelo con mejor rendimiento para reutilizarlo**. "
      ]
    },
    {
      "cell_type": "markdown",
      "metadata": {
        "id": "WZl-40npVZOt"
      },
      "source": [
        "Sólo para su información, existen una serie de filtros usados para tareas específicas, puede usarlos cuando realice ciertos tipos de clasificación de imágenes. <br>\n",
        "Algunos de estos filtros se listan a continuación."
      ]
    },
    {
      "cell_type": "code",
      "metadata": {
        "id": "pinVbvtUT4-M"
      },
      "source": [
        "page(24)"
      ],
      "execution_count": null,
      "outputs": []
    },
    {
      "cell_type": "markdown",
      "metadata": {
        "id": "EC7UaC5VXK-t"
      },
      "source": [
        "##Agrupación (Pooling)"
      ]
    },
    {
      "cell_type": "markdown",
      "metadata": {
        "id": "Xgo_y-KdXRdj"
      },
      "source": [
        "La convolución asigna una región de una imágen a un mapa de características. Esto le ayuda a la red a detectar características de la imagen. <br><br>\n",
        "\n",
        "El siguiente paso después de la convolución se llama \"agrupación\". La agrupación es usada para reducir la resolución del mapa de características mientras se conservan las características requeridas para la clasificación.<br><br>\n",
        "\n",
        "La retropropagación (backpropagation) (lo cual no discutirá en esta clase) es usada para entrenar la operación de agrupación. <br><br>\n",
        "\n",
        "En la siguiente figura, se demuestran dos tipos de agrupación. El ejemplo superior es agrupación de máximos (max pooling). En la agrupación de máximos un filtro pasa sobre la imagen, se guarda el valor máximo dentro del filtro y se descartan los otros valores de los píxeles. <br><br>\n",
        "\n",
        "Con la agrupación promedio (average pooling) se guarda el promedio de los valores, luego estos valores son descartados. <br><br>\n",
        "\n",
        "En la convolución, el  núcleo (kernel) se superpone a sí mismo mientras pasa a través de la imagen. Con la agrupación, no hay superposición."
      ]
    },
    {
      "cell_type": "code",
      "metadata": {
        "id": "VkaGUa2zYUwB"
      },
      "source": [
        "page(19)"
      ],
      "execution_count": null,
      "outputs": []
    },
    {
      "cell_type": "markdown",
      "metadata": {
        "id": "-66pCEP3kEoc"
      },
      "source": [
        "##Aplanado (Flattening)"
      ]
    },
    {
      "cell_type": "markdown",
      "metadata": {
        "id": "nPMqBwK3kJRW"
      },
      "source": [
        "Aplanar un tensor significa eliminar todas las dimensiones excepto una. Es es exactamente lo que hace la capa de aplanado."
      ]
    },
    {
      "cell_type": "code",
      "metadata": {
        "id": "v39ZFMHxlxOA"
      },
      "source": [
        "page(28)"
      ],
      "execution_count": null,
      "outputs": []
    },
    {
      "cell_type": "markdown",
      "metadata": {
        "id": "ln4oDEgjmAON"
      },
      "source": [
        "##Capas densas (Dense Layers)"
      ]
    },
    {
      "cell_type": "markdown",
      "metadata": {
        "id": "8qCir9QsmV5R"
      },
      "source": [
        "Una capa densa también es conocida como una capa completamente conectada. (fully connected layer)<br><br>\n",
        "\n",
        "Una capa densa es una capa regular de neuronas en la red neuronal. Cada neurona recibe una entrada de información de todas las neuronas anteriores. Por lo tanto, se forma una capa densa. Esta capa representa una multiplicación de vectores de matriz. "
      ]
    },
    {
      "cell_type": "code",
      "metadata": {
        "id": "kvrmJn2Zpglx"
      },
      "source": [
        "page(29)"
      ],
      "execution_count": null,
      "outputs": []
    },
    {
      "cell_type": "markdown",
      "metadata": {
        "id": "wuW1spuCpm7T"
      },
      "source": [
        "Las capas son una colección de neuronas. <br><br>\n",
        "\n",
        "Una neurona toma un grupo de entradas ponderadas, aplica una función de activación, y regresa una salida. <br><br>\n",
        "\n",
        "Las entradas a una neurona pueden ser características (features) de un conjunto de entrenamiento o salidas de neuronas de una capa anterior. Se aplican ponderaciones a las entradas a medida que viajan a través de las sinapsis para llegar a la neurona.  Después, la neurona aplica una función de activación a \"la suma ponderada de entradas\" de cada sinapsis entrante y pasa el resultado a todas las neuronas en la siguiente capa."
      ]
    },
    {
      "cell_type": "code",
      "metadata": {
        "id": "VuofMAuNqDH4"
      },
      "source": [
        "page(30)"
      ],
      "execution_count": null,
      "outputs": []
    },
    {
      "cell_type": "markdown",
      "metadata": {
        "id": "3GFKMElQsxOU"
      },
      "source": [
        "##Funciones de activación (Activation Functions)"
      ]
    },
    {
      "cell_type": "code",
      "metadata": {
        "id": "thd6wHnws00o"
      },
      "source": [
        "page(31)"
      ],
      "execution_count": null,
      "outputs": []
    },
    {
      "cell_type": "markdown",
      "metadata": {
        "id": "lot-rCFIs0Hj"
      },
      "source": [
        "Las funciones de activación son una característica extremadamente importante de las redes neuronales artificiales. Básicamente deciden si una neurona debe ser activada o no. Si la información que la neurona está recibiendo es relevante para la información dada o si debe ser ignorada. <br><br>\n",
        "\n",
        "La función de activación es una transformación no lineal que se hace sobre la señal de entrada. Esta salida transformada después es enviada como una entrada a la siguiente capa de neuronas.<br><br>\n",
        "\n",
        "¿Podemos prescindir de una función de activación?<br>\n",
        "Ahora la pregunta que surge es si la función de activación incrementa mucho la complejidad, ¿podemos prescindir de una función de activación?<br><br>\n",
        "\n",
        "Cuando no tenemos la función de activación, las ponderaciones y sesgos simplemente harían una transformación lineal. Una ecuación lineal es simple de resolver pero está limitada en su capacidad de resolver problemas. Una red neuronal sin función de activación es esencialmente un modelo de regresión lineal. La función de activación hace la transformación no lineal a la entrada, haciendo el modelo capaz de aprender y realizar tareas más complejas. Nos gustaría que nuestras redes neuronales trabajaran en tareas complicadas como traducciones de idiomas y clasificación de imágenes. Las transformaciones lineales nunca podrían realizar tales tareas.\n",
        "<br><br>\n",
        "\n",
        "Las funciones de activación hacen posible la retropropagación (back-propagation) ya que los gradientes se suministran junto con el error para actualizar las ponderaciones y sesgos. Sin la función diferenciable no lineal, esto no sería posible.<br><br>\n"
      ]
    },
    {
      "cell_type": "markdown",
      "metadata": {
        "id": "UYAyBER5lo8t"
      },
      "source": [
        "##Softmax\n",
        "La función Softmax es una función de activación que convierte números en probabilidades que suman uno. La función regresa un vector que representa las distribuciones de probabilidad de una lista de posibleas resultados."
      ]
    },
    {
      "cell_type": "code",
      "metadata": {
        "id": "7DZv0LFNlujZ"
      },
      "source": [
        "page(25)"
      ],
      "execution_count": null,
      "outputs": []
    },
    {
      "cell_type": "code",
      "metadata": {
        "id": "zAzVRmcel2qi"
      },
      "source": [
        "page(26)"
      ],
      "execution_count": null,
      "outputs": []
    },
    {
      "cell_type": "markdown",
      "metadata": {
        "id": "KJEgrusBvEFp"
      },
      "source": [
        "##Abandono (Dropout)"
      ]
    },
    {
      "cell_type": "code",
      "metadata": {
        "id": "_edBJKP4GSdi"
      },
      "source": [
        "page(33)"
      ],
      "execution_count": null,
      "outputs": []
    },
    {
      "cell_type": "markdown",
      "metadata": {
        "id": "pRy1nLVhFfAM"
      },
      "source": [
        "El abandono se refiere a ignorar neuronas durante el entrenamiento. Las neuronas abandonadas son seleccionadas aleatoriamente. Ignorar significa que esas unidades no son consideradas durante un paso hacia adelante o hacia atrás en particular.<br><br>\n",
        "\n",
        "En cada etapa de entrenamiento, los nodos individuales se eliminan de la red para que quede una red reducida. También se eliminan los bordes entrantes y salientes de un nodo abandonado.<br><br>\n",
        "\n",
        "¿Por qué necesitamos el abandono?<br>\n",
        "\n",
        "\n",
        "El abandono es usado para prevenir el sobre ajuste (over-fitting).\n",
        "Una capa completamente conectada ocupa la mayoría de los parámetros, y por ende, las neuronas desarrollan codependencia entre sí durante el entrenamiento lo cual frena el potencial individual de cada neurona, lo que lleva a un sobre ajuste de los datos de entrenamiento."
      ]
    },
    {
      "cell_type": "code",
      "metadata": {
        "id": "ZO8LcPYKgaB1"
      },
      "source": [
        "page(35)"
      ],
      "execution_count": null,
      "outputs": []
    },
    {
      "cell_type": "markdown",
      "metadata": {
        "id": "YnbSkuLkJC2c"
      },
      "source": [
        "###Desajuste (Underfitting) de un modelo"
      ]
    },
    {
      "cell_type": "markdown",
      "metadata": {
        "id": "0wV_y_1TIUm9"
      },
      "source": [
        "Un modelo desajustado tiene un rendimiento deficiente incluso en el conjunto de entrenamiento, se dice que el modelo tiene un sesgo alto (High Bias).\n",
        "\n",
        "Según Andrew Ng, los mejores métodos para lidiar con un modelo desajustado es probando una red neuronal más grande (agregando más capas o incrementando el número de neuronas en capas existentes) o entrenando el modelo un poco más."
      ]
    },
    {
      "cell_type": "markdown",
      "metadata": {
        "id": "FvXng85EJXqA"
      },
      "source": [
        "###Sobre ajuste (Overfitting) de un modelo\n"
      ]
    },
    {
      "cell_type": "markdown",
      "metadata": {
        "id": "0WxLw_8_IjZm"
      },
      "source": [
        "El sobreajuste ocurre cuando el modelo se desempeña bien cuando es evaluado usando el set de entrenamiento, pero no puede lograr una buena precisión cuando se usa el conjunto de datos de prueba. A este tipo de problema se denomina de \"alta varianza\", y usualmente significa que el modelo no puede generalizar los conocimientos del conjunto de datos de entrenamiento.\n",
        "\n",
        "Andrew Ng sugiere que la mejor solución al sobreajuste es obtener más datos y usar la regularización.\n",
        "\n",
        "Se sugiere una solución de este tipo porque es posible que el modelo obtenga suficientes ejemplos de entrenamiento para aprender correctamente los patrones, por lo que agregar nuevas observaciones al conjunto de entrenamiento puede aumentar la posibilidad de obtener un mejor modelo.\n",
        "\n",
        "Por otro lado, es posible que la red neuronal es demasiado complicada y por esto, puede lidiar adecuadamente únicamente con los ejemplos del conjunto de entrenamiento. Si este fuera un humano escribiendo en la escuela, diríamos que memorizó la tarea, pero no entendió el concepto. Lo mismo puede suceder con un modelo de machine learning."
      ]
    },
    {
      "cell_type": "markdown",
      "metadata": {
        "id": "EMg2i6WkuKUz"
      },
      "source": [
        "##Cree un modelo de red neuronal profunda (Deep Neural Network)."
      ]
    },
    {
      "cell_type": "code",
      "metadata": {
        "id": "8REDiCnKAqsN"
      },
      "source": [
        "page(13)"
      ],
      "execution_count": null,
      "outputs": []
    },
    {
      "cell_type": "markdown",
      "metadata": {
        "id": "ThaJjewgA0SW"
      },
      "source": [
        "La red neuronal convolucionar tiene nueve capas. \n",
        "Las primeras seis capas son para una característica de extracción y las últimas tres son para clasificar la imagen. <br><br>\n",
        "Observe las capas convolucionales, ¿cuál es el tamaño del kernel, la función de activación, y el número de filtros para cada capa?\n",
        "\n",
        "\n",
        "\n"
      ]
    },
    {
      "cell_type": "code",
      "metadata": {
        "id": "o83g7DvRlTMJ"
      },
      "source": [
        "from tensorflow.keras.models import Sequential\n",
        "from tensorflow.keras.layers import Conv2D, MaxPool2D, Dense, Flatten, Dropout, BatchNormalization\n",
        "\n",
        "#keras.layers.BatchNormalization()\n",
        "\n",
        "model = Sequential()\n",
        "#create the feature extraction layers\n",
        "#layer1,2,3 (Dropout is not considered a layer)\n",
        "model.add(Conv2D(filters=32, kernel_size=(5,5), activation='relu', input_shape=x_train.shape[1:]))\n",
        "model.add(Conv2D(filters=32, kernel_size=(5,5), activation='relu'))\n",
        "model.add(MaxPool2D(pool_size=(2, 2)))\n",
        "model.add(Dropout(rate=0.25))\n",
        "#layer4,5,6\n",
        "model.add(Conv2D(filters=64, kernel_size=(3, 3), activation='relu'))\n",
        "model.add(Conv2D(filters=64, kernel_size=(3, 3), activation='relu'))\n",
        "model.add(MaxPool2D(pool_size=(2, 2)))\n",
        "model.add(Dropout(rate=0.25))\n",
        "#layer7\n",
        "model.add(Flatten())\n",
        "#Create the classification layers\n",
        "#layer8,9\n",
        "model.add(Dense(256, activation='relu'))\n",
        "model.add(Dropout(rate=0.5))\n",
        "model.add(Dense(10, activation='softmax'))\n",
        "\n",
        "model.compile(\n",
        "    loss='categorical_crossentropy', \n",
        "    optimizer='adam', \n",
        "    metrics=['accuracy']\n",
        ")\n",
        "print(\"done\")"
      ],
      "execution_count": null,
      "outputs": []
    },
    {
      "cell_type": "markdown",
      "metadata": {
        "id": "UQDgC5xLlw5d"
      },
      "source": [
        "##Examine el modelo"
      ]
    },
    {
      "cell_type": "code",
      "metadata": {
        "id": "Rj1P7gKnBGUv"
      },
      "source": [
        "page(14)"
      ],
      "execution_count": null,
      "outputs": []
    },
    {
      "cell_type": "code",
      "metadata": {
        "id": "ttmZDXDQlzKe"
      },
      "source": [
        "model.summary()"
      ],
      "execution_count": null,
      "outputs": []
    },
    {
      "cell_type": "markdown",
      "metadata": {
        "id": "mAiOL9xYzPjH"
      },
      "source": [
        "##Aumento de datos para imágenes (Data Augmentation)\n"
      ]
    },
    {
      "cell_type": "code",
      "metadata": {
        "id": "RHxx0mGsg41C"
      },
      "source": [
        "page(100)\n",
        "Image(\"Intro to Deep Neural Networks with Keras (100).png\", width=700)"
      ],
      "execution_count": null,
      "outputs": []
    },
    {
      "cell_type": "markdown",
      "metadata": {
        "id": "R0SLfQxIhNSc"
      },
      "source": [
        "Este es un conjunto de datos grande, por lo que no es necesario un aumento de datos, por lo que en el código de la siguiente celda los valores son todos cero.\n",
        "\n",
        "Si necesita aumentar el tamaño del conjunto de datos, una forma rápida de hacerlo es con el aumento (augmentation). Una imagen se puede rotar, voltear verticalmente y horizontalmente, recortar, o desplazar para crear instancias de datos adicionales.\n",
        "\n",
        "El código en la siguiente celda se incluye como un ejemplo de como realizar el aumento de datos."
      ]
    },
    {
      "cell_type": "code",
      "metadata": {
        "id": "LuoVT5GRzK2D"
      },
      "source": [
        "from tensorflow.keras.preprocessing.image import ImageDataGenerator\n",
        "\n",
        "#when doing data augmentation, change the values \n",
        "datagen = ImageDataGenerator(\n",
        "  rotation_range=0,\n",
        "  zoom_range=0,\n",
        "  width_shift_range=0,\n",
        "  height_shift_range=0\n",
        ")\n",
        "print(\"done\")"
      ],
      "execution_count": null,
      "outputs": []
    },
    {
      "cell_type": "markdown",
      "metadata": {
        "id": "vKPXTPE1zbIr"
      },
      "source": [
        "##Entrene el modelo\n",
        "Entrenar este modelo lleva algo de tiempo. Si hiciéramos un ciclo (epoch) llevaría al menos 10 minutos.</br>\n",
        "\n",
        "Cuando se entrena un modelo, es posible que desee comenzar con 5 o 10 ciclos (epochs). Por cuestiones de tiempo, descargó un modelo ya entrenado con 20 ciclos (epochs)."
      ]
    },
    {
      "cell_type": "code",
      "metadata": {
        "id": "noIdFtFOzbSw"
      },
      "source": [
        "#This code is commented it out because we are not training the model. \n",
        "#We are loading a trained model.\n",
        "\n",
        "#One epoch is not enough to train the model. For the sake of time, you only train\n",
        "#on one epoch. When training a model, start with at least 4 epochs. \n",
        "epochs = 20\n",
        "#When training, chaning the batch size can improve model performance. \n",
        "#Batch sizes to try: 32, 64, 128\n",
        "batch_size = 32\n",
        "#history = model.fit(x_train, y_train, validation_data=(x_test,y_test), verbose=0)\n",
        "#history = model.fit_generator(datagen.flow(x_train, y_train, batch_size=batch_size), epochs=epochs,\n",
        "#                              validation_data=(x_test, y_test), steps_per_epoch=x_train.shape[0]//batch_size)\n",
        "print(\"done\")"
      ],
      "execution_count": null,
      "outputs": []
    },
    {
      "cell_type": "markdown",
      "metadata": {
        "id": "C7V4oFygccIX"
      },
      "source": [
        "##Cargue el modelo guardado\n",
        "<br><br>\n",
        "El modelo guardado se entrenó en 20 ciclos (epochs) con abandono (Dropout)."
      ]
    },
    {
      "cell_type": "code",
      "metadata": {
        "id": "cLdlmArphnXg"
      },
      "source": [
        "# load the model\n",
        "\n",
        "from numpy import loadtxt\n",
        "from keras.models import load_model\n",
        "#model.save(\"drive/My Drive/modelMNIST-10epochs.h5\")\n",
        "model = tf.keras.models.load_model('modelMNIST20epochsDropOut5.h5')\n",
        "print(\"done\")"
      ],
      "execution_count": null,
      "outputs": []
    },
    {
      "cell_type": "markdown",
      "metadata": {
        "id": "_m3xVfCB7sqt"
      },
      "source": [
        "##Visualice el entrenamiento"
      ]
    },
    {
      "cell_type": "code",
      "metadata": {
        "id": "tUxO7WQZrzg7"
      },
      "source": [
        "#This code was added because we are loading a saved model. \n",
        "#Delete this code when training your own model\n",
        "\n",
        "history={\n",
        "'loss' : [0.02159241828986839, 0.024359366491305854, 0.024075006447355083, 0.022434302305513597, 0.022502201637798196, 0.02092262319721639, \n",
        "        0.022628609957231833, 0.023984545621410218, 0.0229671287720994, 0.022892831495716928, 0.02297513877024704, 0.02238998557519702, \n",
        "        0.023669260091022035, 0.021758925482126285, 0.02549580325261595, 0.024763063155473206, 0.02372065919294233, 0.025702197297606425, \n",
        "        0.023723514277891884, 0.02281903999319464],\n",
        "'accuracy' : [0.99403334, 0.9931333, 0.99298334, 0.9931833, 0.9935833, 0.9935667, 0.99338335, 0.99328333, 0.9931167, 0.99343336, 0.9938833, \n",
        "            0.99371666, 0.99333334, 0.9942667, 0.9931833, 0.9935333, 0.99355, 0.9932, 0.9934833, 0.9939167],\n",
        "\n",
        "'val_loss' : [0.026281631059093, 0.028667511040699006, 0.02301221162546947, 0.025282778917519604, 0.024452570569623546, 0.035854992368808306, \n",
        "            0.02532163344535977, 0.02743238721277157, 0.02539914317318045, 0.029287450911669267, 0.0317203404111008, 0.02501243616821786, \n",
        "            0.02125193558843274, 0.025320859121663195, 0.02633974252908173, 0.028473211738133632, 0.0272574734327402, 0.029718255650349197, \n",
        "            0.03425914892460101, 0.025203502631789627],\n",
        "'val_accuracy' : [0.9931, 0.9928, 0.9938, 0.9943, 0.9946, 0.9927, 0.994, 0.9933, 0.9945, 0.9938, 0.9931, 0.9934, 0.9952, 0.994, 0.9944, \n",
        "                0.9934, 0.9935, 0.994, 0.993, 0.9942]\n",
        "}\n",
        "\n",
        "#This code was modified because we are loading a saved model. \n",
        "#Change the code to: \n",
        "#print(history.history.keys())\n",
        "#print(history.history)\n",
        "print(history.keys())\n",
        "print(history)"
      ],
      "execution_count": null,
      "outputs": []
    },
    {
      "cell_type": "code",
      "metadata": {
        "id": "-Esy9msx7s10"
      },
      "source": [
        "#This code was modified because we are loading a saved model. \n",
        "#Change the code to: \n",
        "#plt.plot(history.history['accuracy'], label='training accuracy')\n",
        "#plt.plot(history.history['val_accuracy'], label='testing accuracy')\n",
        "\n",
        "import matplotlib.pyplot as plt\n",
        "\n",
        "axes = plt.gca()\n",
        "axes.set_ylim([0.9,1])\n",
        "plt.plot(history['accuracy'], label='training accuracy')\n",
        "plt.plot(history['val_accuracy'], label='testing accuracy')\n",
        "plt.title('Accuracy')\n",
        "plt.xlabel('epochs')\n",
        "plt.ylabel('accuracy')\n",
        "plt.legend()"
      ],
      "execution_count": null,
      "outputs": []
    },
    {
      "cell_type": "code",
      "metadata": {
        "id": "RcIBz1rw0li7"
      },
      "source": [
        "#This code was modified because we are loading a saved model. \n",
        "#Change the code to: \n",
        "#plt.plot(history.history['loss'], label='training loss')\n",
        "#plt.plot(history.history['val_loss'], label='testing accuracy')\n",
        "\n",
        "axes = plt.gca()\n",
        "axes.set_ylim([.0,.5])\n",
        "plt.plot(history['loss'], label='training loss')\n",
        "plt.plot(history['val_loss'], label='testing loss')\n",
        "plt.title('Loss')\n",
        "plt.xlabel('epochs')\n",
        "plt.ylabel('loss')\n",
        "plt.legend()"
      ],
      "execution_count": null,
      "outputs": []
    },
    {
      "cell_type": "markdown",
      "metadata": {
        "id": "soRbXDyrQCzn"
      },
      "source": [
        "##Compruebe las capacidades de predicción del modelo"
      ]
    },
    {
      "cell_type": "code",
      "metadata": {
        "id": "OO3zkZUzPwE1"
      },
      "source": [
        "test_index = 999\n",
        "test_img = x_test[test_index]\n",
        "plt.imshow(test_img.reshape(28,28), cmap='gray')\n",
        "plt.colorbar()\n",
        "#plt.title(\"Index:[{}] Value:{}\".format(test_index, y_train.values[7777]))\n",
        "plt.show()"
      ],
      "execution_count": null,
      "outputs": []
    },
    {
      "cell_type": "code",
      "metadata": {
        "id": "SXPBrOZjP0NH"
      },
      "source": [
        "from tensorflow.keras.models import Model\n",
        "from tensorflow.keras.layers import Input, Dense\n",
        "import matplotlib as mpl\n",
        "inp = model.input \n",
        "\n",
        "layer_outputs = [layer.output for layer in model.layers]\n",
        "activation_model = Model(inputs=model.input, outputs=layer_outputs)\n",
        "activations = activation_model.predict(test_img.reshape(1,28,28,1))\n",
        "\n",
        "def display_activation(activations, col_size, row_size, act_index):\n",
        "  activation = activations[act_index]\n",
        "  activation_index=0\n",
        "  fig, ax = plt.subplots(row_size, col_size, figsize=(row_size*2.5,col_size*1.5))\n",
        "  #plt.colorbar('gray')\n",
        "  for row in range(0,row_size):\n",
        "    for col in range(0,col_size):\n",
        "      ax[row][col].imshow(activation[0, :, :, activation_index], cmap='gray')\n",
        "      activation_index += 1\n",
        "\n",
        "print(\"done\")\n"
      ],
      "execution_count": null,
      "outputs": []
    },
    {
      "cell_type": "code",
      "metadata": {
        "id": "nwYlMwYykbn1"
      },
      "source": [
        "import numpy as np\n",
        "\n",
        "act_dense_3 = activations[11]\n",
        "y = act_dense_3[0]\n",
        "x = range(len(y))\n",
        "objects = np.arange(0, 9, step=1)\n",
        "plt.xticks(x, objects)\n",
        "plt.bar(x,y,align='center')\n",
        "plt.show()"
      ],
      "execution_count": null,
      "outputs": []
    },
    {
      "cell_type": "code",
      "metadata": {
        "id": "cjiQ3Df7RcOu"
      },
      "source": [
        "print(activations[11])"
      ],
      "execution_count": null,
      "outputs": []
    },
    {
      "cell_type": "markdown",
      "metadata": {
        "id": "T584Gz1F2rjc"
      },
      "source": [
        "###Use el modelo para predecir dígitos"
      ]
    },
    {
      "cell_type": "code",
      "metadata": {
        "id": "cWkjjVxFwxKr"
      },
      "source": [
        "#Pick a number (0-3) from the check set\n",
        "\n",
        "choose = 0 \n",
        "test_img = x_check[choose] \n",
        "#print(x_check[choose])\n",
        "#Determine what is the digit for your chosen test \n",
        "digit = np.argmax((y_check[choose]))\n",
        "print(\"The chosen digit is \" + str(digit))\n",
        "\n",
        "#Use the model to predict the chosen digit\n",
        "pred = model.predict(test_img.reshape(1,28,28,1))\n",
        "#Print the array of probabilites for the digits 0 -9\n",
        "print(\"\\nThe model prediction is: \")\n",
        "print(pred)\n",
        "\n",
        "#Print the index of the max value of the probabilities array, \n",
        "#This is the predicted digit\n",
        "answer = np.argmax(pred)\n",
        "print(\"Which is \" + str(answer))"
      ],
      "execution_count": null,
      "outputs": []
    },
    {
      "cell_type": "code",
      "metadata": {
        "id": "r1KsIz59Y-1g"
      },
      "source": [
        "activation_model = Model(inputs=model.input, outputs=layer_outputs)\n",
        "activations = activation_model.predict(test_img.reshape(1,28,28,1))\n",
        "\n",
        "\n",
        "act_dense_3 = activations[11]\n",
        "y = act_dense_3[0]\n",
        "x = range(len(y))\n",
        "objects = np.arange(0, 9, step=1)\n",
        "plt.xticks(x, objects)\n",
        "plt.bar(x,y,align='center')\n",
        "plt.show()"
      ],
      "execution_count": null,
      "outputs": []
    },
    {
      "cell_type": "code",
      "metadata": {
        "id": "1RK6c99vnwZs"
      },
      "source": [
        "page(36)"
      ],
      "execution_count": null,
      "outputs": []
    },
    {
      "cell_type": "markdown",
      "metadata": {
        "id": "EOgw1FK0r_Kj"
      },
      "source": [
        "#Por favor dé retroalimentación de este curso: \n",
        "\n",
        "[Intro to DNN with Keras](https://docs.google.com/forms/d/e/1FAIpQLSceD-PVXYfXTDFBRd6UrhtEO0jxPS_iXtSEQEy3POQ3lh8l-A/viewform?usp=pp_url)\n"
      ]
    },
    {
      "cell_type": "markdown",
      "metadata": {
        "id": "jdWd56X5e2VR"
      },
      "source": [
        "##[TensorFlow Playground](https://playground.tensorflow.org/#activation=tanh&batchSize=10&dataset=circle&regDataset=reg-plane&learningRate=0.03&regularizationRate=0&noise=0&networkShape=4,2&seed=0.50576&showTestData=false&discretize=false&percTrainData=50&x=true&y=true&xTimesY=false&xSquared=false&ySquared=false&cosX=false&sinX=false&cosY=false&sinY=false&collectStats=false&problem=classification&initZero=false&hideText=false)"
      ]
    }
  ]
}